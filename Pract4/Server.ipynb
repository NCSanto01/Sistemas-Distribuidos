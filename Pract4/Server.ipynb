{
 "cells": [
  {
   "cell_type": "markdown",
   "id": "c1cc98c1",
   "metadata": {},
   "source": [
    "### MULTITHREADING-1"
   ]
  },
  {
   "cell_type": "code",
   "execution_count": null,
   "id": "0987ee07",
   "metadata": {},
   "outputs": [
    {
     "name": "stdout",
     "output_type": "stream",
     "text": [
      "Input server port: 6780\n",
      "\n",
      "Thread 0 started\n",
      "\n",
      "RX: Message 1\n",
      "\n",
      "Thread 1 started\n",
      "\n",
      "RX: Second message\n",
      "\n",
      "Thread 2 started\n",
      "\n",
      "RX: Message 2\n",
      "\n",
      "Thread 3 started\n",
      "\n",
      "RX: exit\n",
      "\n",
      "Thread 3 ended\n",
      "\n",
      "\n",
      "Thread 4 started\n",
      "\n",
      "RX: Message 1\n",
      "\n",
      "Thread 5 started\n",
      "\n",
      "RX: Second message\n",
      "\n",
      "Thread 6 started\n",
      "\n",
      "RX: CLIENT 4\n",
      "\n",
      "Thread 7 started\n",
      "\n",
      "RX: exit\n",
      "\n",
      "Thread 7 ended\n",
      "\n",
      "\n",
      "Thread 8 started\n",
      "\n",
      "RX: Message FROM CLIENT 3\n"
     ]
    }
   ],
   "source": [
    "import socket\n",
    "import sys\n",
    "import threading\n",
    "import time\n",
    "\n",
    "def worker_routine(thread_name, connection):\n",
    "       \n",
    "    print(\"\\nThread \"+ thread_name + \" started\\n\")\n",
    "    msg_rx = \"\"\n",
    "    while msg_rx != \"exit\":\n",
    "        try:\n",
    "            msg_rx = connection.recv(1024).decode()\n",
    "            if msg_rx != \"\":\n",
    "                print(\"RX: \" + msg_rx)\n",
    "            msg_tx = msg_rx\n",
    "            connection.sendall(msg_tx.encode())\n",
    "        except:\n",
    "            break\n",
    "    \n",
    "    print(\"\\nThread \"+ thread_name + \" ended\\n\")\n",
    "    connection.close()\n",
    "\n",
    "def start_thread(thread_name, connection):\n",
    "    reader = threading.Thread(target=worker_routine, args=(thread_name, connection))\n",
    "\n",
    "    reader.start()\n",
    "    \n",
    "    \n",
    "    \n",
    "port = input(\"Input server port: \")\n",
    "# Check if port is a number\n",
    "while port.isnumeric() == False:\n",
    "    port = input(\"Port must be numeric: \")\n",
    "\n",
    "port = int(port)\n",
    "    \n",
    "try:\n",
    "        server_address = (\"localhost\", port)\n",
    "        sock = socket.socket(family=socket.AF_INET, type=socket.SOCK_STREAM)\n",
    "        sock.setsockopt(socket.SOL_SOCKET, socket.SO_REUSEADDR, 1)\n",
    "        sock.bind(server_address)\n",
    "        sock.listen(1)\n",
    "        \n",
    "except Exception as e:\n",
    "        print(\"Invalid port\")\n",
    "        print(e)\n",
    "    \n",
    "\n",
    "port = int(port)\n",
    "\n",
    "iteration = 0\n",
    "\n",
    "try:\n",
    "    while True:\n",
    "        connection, client_address = sock.accept()\n",
    "        start_thread(str(iteration), connection)\n",
    "\n",
    "        iteration = iteration + 1\n",
    "            \n",
    "except Exception as e:\n",
    "    print(e)\n",
    "    "
   ]
  },
  {
   "cell_type": "code",
   "execution_count": null,
   "id": "bd9202bd",
   "metadata": {},
   "outputs": [],
   "source": [
    "\n",
    "\n",
    "\n"
   ]
  },
  {
   "cell_type": "code",
   "execution_count": 1,
   "id": "e5de6b19",
   "metadata": {},
   "outputs": [],
   "source": []
  },
  {
   "cell_type": "code",
   "execution_count": null,
   "id": "a98a3ef2",
   "metadata": {},
   "outputs": [],
   "source": []
  }
 ],
 "metadata": {
  "kernelspec": {
   "display_name": "Python 3 (ipykernel)",
   "language": "python",
   "name": "python3"
  },
  "language_info": {
   "codemirror_mode": {
    "name": "ipython",
    "version": 3
   },
   "file_extension": ".py",
   "mimetype": "text/x-python",
   "name": "python",
   "nbconvert_exporter": "python",
   "pygments_lexer": "ipython3",
   "version": "3.10.10"
  },
  "vscode": {
   "interpreter": {
    "hash": "f8ca15d83b6fb72cece3edcf60f6aa40d2cbdeb5c60e0f188ff8c7c65828fd00"
   }
  }
 },
 "nbformat": 4,
 "nbformat_minor": 5
}
