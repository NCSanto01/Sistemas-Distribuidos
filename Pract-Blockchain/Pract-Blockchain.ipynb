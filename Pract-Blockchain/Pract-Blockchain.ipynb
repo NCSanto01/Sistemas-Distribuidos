{
 "cells": [
  {
   "cell_type": "code",
   "execution_count": 1,
   "id": "ed8f9f9b",
   "metadata": {},
   "outputs": [],
   "source": [
    "import json\n",
    "import hashlib\n",
    "import time\n",
    "from matplotlib import pyplot as plt\n"
   ]
  },
  {
   "cell_type": "code",
   "execution_count": 2,
   "id": "9a50fdf1",
   "metadata": {},
   "outputs": [],
   "source": [
    "class Block():\n",
    "    def __init__(self, index, transactions, timestamp, previous_hash, current_hash = \"\", nonce: int = 0):\n",
    "        self.index = index\n",
    "        self.transactions = transactions\n",
    "        self.timestamp = timestamp\n",
    "        self.previous_hash = previous_hash\n",
    "        self.current_hash = current_hash\n",
    "        self.nonce = nonce\n",
    "        \n",
    "    def compute_hash(self):\n",
    "        block_string = json.dumps(self.__dict__, sort_keys = True)\n",
    "        \n",
    "        block_hash = hashlib.sha256(block_string.encode('utf-8')).hexdigest()\n",
    "\n",
    "        return block_hash\n",
    "    \n",
    "    \n",
    "\n",
    "        \n",
    "        "
   ]
  },
  {
   "cell_type": "code",
   "execution_count": 3,
   "id": "249bb914",
   "metadata": {},
   "outputs": [
    {
     "data": {
      "text/plain": [
       "'e4a42b27c826f45421870630fbc2ec460d069d54a89a5e89d8f437547fcff8d0'"
      ]
     },
     "execution_count": 3,
     "metadata": {},
     "output_type": "execute_result"
    }
   ],
   "source": [
    "bloque = Block(1,2,3,4)\n",
    "bloque.compute_hash()"
   ]
  },
  {
   "cell_type": "markdown",
   "id": "1f3b11dc",
   "metadata": {},
   "source": [
    "## 1.2: Definición de objeto Cadena "
   ]
  },
  {
   "cell_type": "code",
   "execution_count": 4,
   "id": "509eb05f",
   "metadata": {},
   "outputs": [],
   "source": [
    "class Blockchain():\n",
    "    def __init__(self, difficulty = 2):\n",
    "        self.chain = []\n",
    "        self.create_genesis_block()\n",
    "        \n",
    "        self.difficulty = difficulty\n",
    "        \n",
    "    def create_genesis_block(self):\n",
    "        block = Block(0,[],time.time(),\"0\")\n",
    "        hash_block = block.compute_hash()\n",
    "        block.current_hash = hash_block\n",
    "        self.chain.append(block)\n",
    "     \n",
    "    @property\n",
    "    def last_block(self):\n",
    "        return self.chain[-1]\n",
    "    \n",
    "    def proof_of_work(self, block: Block):\n",
    "        zeros = \"\"\n",
    "        for i in range(self.difficulty):\n",
    "            zeros = zeros + \"0\"\n",
    "        print(\"Zeros: \" + zeros)\n",
    "        if zeros != \"\":\n",
    "            while block.current_hash.startswith(zeros) == False:\n",
    "                block.nonce = block.nonce + 1\n",
    "                block.previous_hash = block.current_hash\n",
    "                block.current_hash = block.compute_hash()\n",
    "        else:\n",
    "            block.current_hash = block.compute_hash()\n",
    "\n",
    "        return block.current_hash\n",
    "        "
   ]
  },
  {
   "cell_type": "code",
   "execution_count": 5,
   "id": "0eb95141",
   "metadata": {},
   "outputs": [
    {
     "data": {
      "text/plain": [
       "{'index': 0,\n",
       " 'transactions': [],\n",
       " 'timestamp': 1682060745.508776,\n",
       " 'previous_hash': '0',\n",
       " 'current_hash': '5b62d46985ce63e9aa57ef946bd1aff06ae0e105f4a1a0cf82d869f0ebd0d517',\n",
       " 'nonce': 0}"
      ]
     },
     "execution_count": 5,
     "metadata": {},
     "output_type": "execute_result"
    }
   ],
   "source": [
    "blockchain = Blockchain(difficulty=3)\n",
    "blockchain.last_block.__dict__"
   ]
  },
  {
   "cell_type": "code",
   "execution_count": 6,
   "id": "7787a414",
   "metadata": {},
   "outputs": [
    {
     "data": {
      "text/plain": [
       "{'index': 1,\n",
       " 'transactions': [],\n",
       " 'timestamp': 1682060747.439,\n",
       " 'previous_hash': '5b62d46985ce63e9aa57ef946bd1aff06ae0e105f4a1a0cf82d869f0ebd0d517',\n",
       " 'current_hash': '',\n",
       " 'nonce': 0}"
      ]
     },
     "execution_count": 6,
     "metadata": {},
     "output_type": "execute_result"
    }
   ],
   "source": [
    "new_index = blockchain.last_block.index + 1\n",
    "new_transaction = []\n",
    "new_timestamp = time.time()\n",
    "new_previous_hash = blockchain.last_block.current_hash\n",
    "newblock = Block(new_index, new_transaction, new_timestamp, new_previous_hash)\n",
    "newblock.__dict__"
   ]
  },
  {
   "cell_type": "code",
   "execution_count": 7,
   "id": "f0a1fd03",
   "metadata": {},
   "outputs": [
    {
     "name": "stdout",
     "output_type": "stream",
     "text": [
      "Zeros: 000\n"
     ]
    },
    {
     "data": {
      "text/plain": [
       "'000010fca1e30f3664772b86e3e016b3ae50c65468de8d04ce6ac759798bd9f7'"
      ]
     },
     "execution_count": 7,
     "metadata": {},
     "output_type": "execute_result"
    }
   ],
   "source": [
    "blockchain.proof_of_work(newblock)"
   ]
  },
  {
   "cell_type": "code",
   "execution_count": 8,
   "id": "72047d05",
   "metadata": {},
   "outputs": [
    {
     "data": {
      "text/plain": [
       "9291"
      ]
     },
     "execution_count": 8,
     "metadata": {},
     "output_type": "execute_result"
    }
   ],
   "source": [
    "newblock.nonce"
   ]
  },
  {
   "cell_type": "code",
   "execution_count": 9,
   "id": "d63b13a5",
   "metadata": {},
   "outputs": [
    {
     "name": "stdout",
     "output_type": "stream",
     "text": [
      "Difficulty: 0\n",
      "Zeros: \n",
      "0\n",
      "Difficulty: 1\n",
      "Zeros: 0\n",
      "4\n",
      "Difficulty: 2\n",
      "Zeros: 00\n",
      "137\n",
      "Difficulty: 3\n",
      "Zeros: 000\n",
      "2190\n",
      "Difficulty: 4\n",
      "Zeros: 0000\n",
      "84655\n",
      "Difficulty: 5\n",
      "Zeros: 00000\n",
      "417210\n",
      "Difficulty: 6\n",
      "Zeros: 000000\n",
      "11352841\n"
     ]
    }
   ],
   "source": [
    "difficulty = 0\n",
    "times = []\n",
    "for i in range(7):\n",
    "    print(\"Difficulty: \"+str(difficulty))\n",
    "    blockchain = Blockchain(difficulty=difficulty)\n",
    "    new_index = blockchain.last_block.index + 1\n",
    "    new_transaction = [\"Transaccion 1\"]\n",
    "    new_timestamp = time.time()\n",
    "    new_previous_hash = blockchain.last_block.current_hash\n",
    "    newblock = Block(new_index, new_transaction, new_timestamp, new_previous_hash)\n",
    "    newblock.__dict__\n",
    "    start = time.time()\n",
    "    blockchain.proof_of_work(newblock)\n",
    "    end = time.time()\n",
    "    print(newblock.nonce)\n",
    "    times.append(end-start)\n",
    "    \n",
    "    difficulty = difficulty + 1\n"
   ]
  },
  {
   "cell_type": "code",
   "execution_count": 10,
   "id": "2731b407",
   "metadata": {
    "scrolled": false
   },
   "outputs": [
    {
     "data": {
      "image/png": "[encoded data removed]",
      "text/plain": [
       "<Figure size 640x480 with 1 Axes>"
      ]
     },
     "metadata": {},
     "output_type": "display_data"
    }
   ],
   "source": [
    "plt.plot([0,1,2,3,4,5,6],times)\n",
    "plt.title(\"Time to compute hash\")\n",
    "plt.xlabel(\"Number of zeros\")\n",
    "plt.ylabel(\"Seconds\")\n",
    "plt.show()\n"
   ]
  },
  {
   "cell_type": "markdown",
   "id": "1e31092e",
   "metadata": {},
   "source": [
    "## 1.4: Minado de bloques"
   ]
  },
  {
   "cell_type": "code",
   "execution_count": 3,
   "id": "1beef91a",
   "metadata": {},
   "outputs": [],
   "source": [
    "class Blockchain():\n",
    "    def __init__(self, difficulty = 2):\n",
    "        self.chain = []\n",
    "        self.create_genesis_block()\n",
    "        self.difficulty = difficulty\n",
    "        self.unconfirmed_transactions = []\n",
    "        \n",
    "    def create_genesis_block(self):\n",
    "        block = Block(0,[],time.time(),\"0\")\n",
    "        hash_block = block.compute_hash()\n",
    "        block.current_hash = hash_block\n",
    "        self.chain.append(block)\n",
    "     \n",
    "    @property\n",
    "    def last_block(self):\n",
    "        return self.chain[-1]\n",
    "    \n",
    "    def proof_of_work(self, block: Block):\n",
    "        calculated_hash = \"\"\n",
    "        zeros = \"\"\n",
    "        for i in range(self.difficulty):\n",
    "            zeros = zeros + \"0\"\n",
    "        print(\"Zeros: \" + zeros)\n",
    "        if zeros != \"\":\n",
    "            while calculated_hash.startswith(zeros) == False:\n",
    "                block.nonce = block.nonce + 1\n",
    "                calculated_hash = block.compute_hash()\n",
    "        else:\n",
    "            calculated_hash = block.compute_hash()\n",
    "\n",
    "        return calculated_hash\n",
    "    \n",
    "    def is_valid_proof(self, block: Block, hash_block: str):\n",
    "        print(\"Received block: \", block.__dict__)\n",
    "        zeros = \"\"\n",
    "        for i in range(self.difficulty):\n",
    "            zeros = zeros + \"0\"\n",
    "        if hash_block.startswith(zeros) == False:\n",
    "            print(\"Does not start with zeros\")\n",
    "            return False\n",
    "        \n",
    "        verification_hash = block.compute_hash()\n",
    "        if verification_hash != hash_block:\n",
    "            print(\"Hash is incorrect\")\n",
    "            print(\"Received hash: \"+hash_block)\n",
    "            print(\"Block nonce: \"+str(block.nonce))\n",
    "            print(\"Verification hash: \"+verification_hash)\n",
    "            print(\"\\n Block received: \", block.__dict__)\n",
    "            return False\n",
    "        \n",
    "        block.current_hash = hash_block\n",
    "        return True\n",
    "    \n",
    "    def append_block(self, block: Block, hash_block: str):\n",
    "        if block.previous_hash != self.last_block.current_hash:\n",
    "            print(\"Previous hash is not equal to last block hash from chain\")\n",
    "            print(\"Previous hash: \" + block.previous_hash)\n",
    "            print(\"Last block hash: \" + self.last_block.current_hash)\n",
    "            return False\n",
    "        if self.is_valid_proof(block, hash_block) != True:\n",
    "            print(\"Is not valid proof\")\n",
    "            return False\n",
    "        \n",
    "        block.current_hash = hash_block\n",
    "        self.chain.append(block)\n",
    "        return True\n",
    "    \n",
    "    def add_new_transaction(self, transaction: str):\n",
    "        self.unconfirmed_transactions.append(transaction)\n",
    "        \n",
    "    def mine(self):\n",
    "        if len(self.unconfirmed_transactions) == 0:\n",
    "            return False\n",
    "        \n",
    "        new_block = Block(index = self.last_block.index + 1,\n",
    "                         transactions = self.unconfirmed_transactions,\n",
    "                         timestamp = time.time(),\n",
    "                         previous_hash = self.last_block.current_hash)\n",
    "        \n",
    "        proof = self.proof_of_work(new_block)\n",
    "        verification = self.append_block(new_block, proof)\n",
    "        if verification == True:\n",
    "            self.unconfirmed_transactions = []\n",
    "            return new_block.index\n",
    "        else:\n",
    "            return False\n",
    "        \n",
    "    def check_chain(self, chain):\n",
    "        for index, block in enumerate(chain):\n",
    "            if block.index>0:\n",
    "                current_hash = block.current_hash\n",
    "    #             delattr(block, \"current_hash\")\n",
    "                block.current_hash = \"\"\n",
    "                if self.is_valid_proof(block, current_hash) != True:\n",
    "                    return False\n",
    "                \n",
    "                previous_block = chain[block.index - 1]\n",
    "                if previous_block.current_hash != block.previous_hash:\n",
    "                    return False\n",
    "\n",
    "                block.current_hash = current_hash\n",
    "        return True\n",
    "    \n",
    "            "
   ]
  },
  {
   "cell_type": "code",
   "execution_count": 87,
   "id": "d0a35f96",
   "metadata": {},
   "outputs": [
    {
     "data": {
      "text/plain": [
       "{'index': 0,\n",
       " 'transactions': [],\n",
       " 'timestamp': 1682067825.1821306,\n",
       " 'previous_hash': '0',\n",
       " 'current_hash': '210088d73794fa165768e8cf350fed176e50eb8dd56cbb69731214afad6ed8aa',\n",
       " 'nonce': 0}"
      ]
     },
     "execution_count": 87,
     "metadata": {},
     "output_type": "execute_result"
    }
   ],
   "source": [
    "blockchain = Blockchain()\n",
    "blockchain.last_block.__dict__"
   ]
  },
  {
   "cell_type": "code",
   "execution_count": 88,
   "id": "fd9a6fa4",
   "metadata": {},
   "outputs": [
    {
     "name": "stdout",
     "output_type": "stream",
     "text": [
      "Length of the BCh:  1\n"
     ]
    }
   ],
   "source": [
    "print(\"Length of the BCh: \", len(blockchain.chain))"
   ]
  },
  {
   "cell_type": "code",
   "execution_count": 89,
   "id": "65d65ab0",
   "metadata": {},
   "outputs": [
    {
     "data": {
      "text/plain": [
       "{'index': 1,\n",
       " 'transactions': [],\n",
       " 'timestamp': 1682067826.7012317,\n",
       " 'previous_hash': '210088d73794fa165768e8cf350fed176e50eb8dd56cbb69731214afad6ed8aa',\n",
       " 'current_hash': '',\n",
       " 'nonce': 0}"
      ]
     },
     "execution_count": 89,
     "metadata": {},
     "output_type": "execute_result"
    }
   ],
   "source": [
    "new_index = blockchain.last_block.index + 1\n",
    "new_transaction = []\n",
    "new_timestamp = time.time()\n",
    "new_previous_hash = blockchain.last_block.current_hash\n",
    "newblock = Block(new_index, new_transaction, new_timestamp, new_previous_hash)\n",
    "newblock.__dict__"
   ]
  },
  {
   "cell_type": "code",
   "execution_count": 90,
   "id": "3db26fab",
   "metadata": {},
   "outputs": [
    {
     "name": "stdout",
     "output_type": "stream",
     "text": [
      "Zeros: 00\n",
      "Hash of newblock:  00fcd3f8a2cbd078d2be59c566794090f148e323b57275b39020dc10882e99c8\n"
     ]
    }
   ],
   "source": [
    "new_hash = blockchain.proof_of_work(newblock)\n",
    "print(\"Hash of newblock: \", new_hash)"
   ]
  },
  {
   "cell_type": "code",
   "execution_count": 91,
   "id": "4035925a",
   "metadata": {},
   "outputs": [
    {
     "name": "stdout",
     "output_type": "stream",
     "text": [
      "{'index': 1, 'transactions': [], 'timestamp': 1682067826.7012317, 'previous_hash': '210088d73794fa165768e8cf350fed176e50eb8dd56cbb69731214afad6ed8aa', 'current_hash': '', 'nonce': 603}\n",
      "Received block:  {'index': 1, 'transactions': [], 'timestamp': 1682067826.7012317, 'previous_hash': '210088d73794fa165768e8cf350fed176e50eb8dd56cbb69731214afad6ed8aa', 'current_hash': '', 'nonce': 603}\n",
      "Appended:  True\n"
     ]
    },
    {
     "data": {
      "text/plain": [
       "{'index': 1,\n",
       " 'transactions': [],\n",
       " 'timestamp': 1682067826.7012317,\n",
       " 'previous_hash': '210088d73794fa165768e8cf350fed176e50eb8dd56cbb69731214afad6ed8aa',\n",
       " 'current_hash': '00fcd3f8a2cbd078d2be59c566794090f148e323b57275b39020dc10882e99c8',\n",
       " 'nonce': 603}"
      ]
     },
     "execution_count": 91,
     "metadata": {},
     "output_type": "execute_result"
    }
   ],
   "source": [
    "print(newblock.__dict__)\n",
    "out = blockchain.append_block(newblock, new_hash)\n",
    "print(\"Appended: \",out)\n",
    "blockchain.last_block.__dict__"
   ]
  },
  {
   "cell_type": "code",
   "execution_count": 92,
   "id": "cc2e0d92",
   "metadata": {},
   "outputs": [],
   "source": [
    "blockchain.add_new_transaction(\"data1\")\n",
    "blockchain.add_new_transaction(\"data2\")\n",
    "blockchain.add_new_transaction(\"data3\")"
   ]
  },
  {
   "cell_type": "code",
   "execution_count": 93,
   "id": "7694a9d2",
   "metadata": {},
   "outputs": [
    {
     "data": {
      "text/plain": [
       "['data1', 'data2', 'data3']"
      ]
     },
     "execution_count": 93,
     "metadata": {},
     "output_type": "execute_result"
    }
   ],
   "source": [
    "blockchain.unconfirmed_transactions"
   ]
  },
  {
   "cell_type": "code",
   "execution_count": 94,
   "id": "6175f006",
   "metadata": {},
   "outputs": [
    {
     "name": "stdout",
     "output_type": "stream",
     "text": [
      "Zeros: 00\n",
      "Received block:  {'index': 2, 'transactions': ['data1', 'data2', 'data3'], 'timestamp': 1682067830.938192, 'previous_hash': '00fcd3f8a2cbd078d2be59c566794090f148e323b57275b39020dc10882e99c8', 'current_hash': '', 'nonce': 473}\n",
      "2\n"
     ]
    }
   ],
   "source": [
    "new_index = blockchain.mine()\n",
    "print(new_index)"
   ]
  },
  {
   "cell_type": "code",
   "execution_count": 95,
   "id": "4deca4c2",
   "metadata": {},
   "outputs": [
    {
     "name": "stdout",
     "output_type": "stream",
     "text": [
      "Length of the BCh:  3\n"
     ]
    }
   ],
   "source": [
    "print(\"Length of the BCh: \",len(blockchain.chain))"
   ]
  },
  {
   "cell_type": "code",
   "execution_count": 96,
   "id": "8ac3a7fb",
   "metadata": {},
   "outputs": [
    {
     "data": {
      "text/plain": [
       "{'index': 2,\n",
       " 'transactions': ['data1', 'data2', 'data3'],\n",
       " 'timestamp': 1682067830.938192,\n",
       " 'previous_hash': '00fcd3f8a2cbd078d2be59c566794090f148e323b57275b39020dc10882e99c8',\n",
       " 'current_hash': '00cbf8ef40526afbf6ad9ef50a48647dbb246efecb25fdde5ca9f4323dea264c',\n",
       " 'nonce': 473}"
      ]
     },
     "execution_count": 96,
     "metadata": {},
     "output_type": "execute_result"
    }
   ],
   "source": [
    "blockchain.last_block.__dict__"
   ]
  },
  {
   "cell_type": "markdown",
   "id": "6551a616",
   "metadata": {},
   "source": [
    "## 1.5 Chequeo de la cadena "
   ]
  },
  {
   "cell_type": "code",
   "execution_count": null,
   "id": "aae09774",
   "metadata": {},
   "outputs": [],
   "source": []
  },
  {
   "cell_type": "code",
   "execution_count": 97,
   "id": "0101712f",
   "metadata": {},
   "outputs": [
    {
     "name": "stdout",
     "output_type": "stream",
     "text": [
      "Received block:  {'index': 1, 'transactions': [], 'timestamp': 1682067826.7012317, 'previous_hash': '210088d73794fa165768e8cf350fed176e50eb8dd56cbb69731214afad6ed8aa', 'current_hash': '', 'nonce': 603}\n",
      "Received block:  {'index': 2, 'transactions': ['data1', 'data2', 'data3'], 'timestamp': 1682067830.938192, 'previous_hash': '00fcd3f8a2cbd078d2be59c566794090f148e323b57275b39020dc10882e99c8', 'current_hash': '', 'nonce': 473}\n"
     ]
    },
    {
     "data": {
      "text/plain": [
       "True"
      ]
     },
     "execution_count": 97,
     "metadata": {},
     "output_type": "execute_result"
    }
   ],
   "source": [
    "chain_to_check = blockchain.chain\n",
    "blockchain.check_chain(chain_to_check)"
   ]
  },
  {
   "cell_type": "code",
   "execution_count": null,
   "id": "e66f374e",
   "metadata": {},
   "outputs": [],
   "source": []
  },
  {
   "cell_type": "markdown",
   "id": "e46954cd",
   "metadata": {},
   "source": [
    "## 1.6 - 1.7 API REST"
   ]
  },
  {
   "cell_type": "code",
   "execution_count": 13,
   "id": "73f13e51",
   "metadata": {},
   "outputs": [
    {
     "name": "stdout",
     "output_type": "stream",
     "text": [
      " * Serving Flask app '__main__'\n",
      " * Debug mode: off\n"
     ]
    },
    {
     "name": "stderr",
     "output_type": "stream",
     "text": [
      "WARNING: This is a development server. Do not use it in a production deployment. Use a production WSGI server instead.\n",
      " * Running on http://127.0.0.1:5000\n",
      "Press CTRL+C to quit\n",
      "127.0.0.1 - - [25/Apr/2023 11:57:40] \"POST /register_new_node HTTP/1.1\" 200 -\n"
     ]
    }
   ],
   "source": [
    "from flask import Flask, request\n",
    "import json\n",
    "import requests\n",
    "import time\n",
    "\n",
    "app = Flask(__name__)\n",
    "\n",
    "blockchain = Blockchain()\n",
    "peers = set()\n",
    "\n",
    "@app.route('/new_transaction', methods = ['POST'])\n",
    "def new_transaction():\n",
    "    tx_data = request.get_json()\n",
    "    required_fields = [\"author\", \"content\"]\n",
    "    \n",
    "    for field in required_fields:\n",
    "        if (field not in tx_data) or (tx_data[field]==\"\"):\n",
    "            return \"Invalid transaction data\", 404\n",
    "        \n",
    "    tx_data[\"timestamp\"] = time.time()\n",
    "    \n",
    "    blockchain.add_new_transaction(tx_data)\n",
    "    \n",
    "    return \"Success\", 201\n",
    "    \n",
    "    \n",
    "@app.route('/chain', methods = ['GET'])\n",
    "def get_chain_data():\n",
    "    chain_data = {}\n",
    "    chain_data[\"length\"] = len(blockchain.chain)\n",
    "    \n",
    "    chain_data[\"chain\"] = []\n",
    "    for block in blockchain.chain:\n",
    "        chain_data[\"chain\"].append(block.__dict__)\n",
    "        \n",
    "    chain_data[\"peers\"] = list(peers)\n",
    "    \n",
    "    chain_data_json = json.dumps(chain_data)\n",
    "    \n",
    "    return chain_data_json\n",
    "\n",
    "\n",
    "@app.route('/mine', methods = ['GET'])\n",
    "def mine():\n",
    "    if len(blockchain.unconfirmed_transactions) == 0:\n",
    "        return \"There are no transactions to mine\", 200\n",
    "    \n",
    "    new_block_index = blockchain.mine()\n",
    "        \n",
    "    if new_block_index == False:\n",
    "        return \"Mining error\", 500\n",
    "        \n",
    "    return \"Block #\" + str(new_block_index)+\" was mined\", 200\n",
    "\n",
    "\n",
    "@app.route('/pending_transactions', methods = ['GET'])\n",
    "def get_pending_transactions():\n",
    "    return blockchain.unconfirmed_transactions, 200\n",
    "\n",
    "\n",
    "@app.route('/register_new_node', methods = ['POST'])\n",
    "def register_new_node():\n",
    "    new_node_address = request.get_json()[\"new_node_address\"]\n",
    "    \n",
    "    if not new_node_address:\n",
    "        return \"Invalid data\", 400\n",
    "    \n",
    "    else:\n",
    "        peers.add(new_node_address)\n",
    "        \n",
    "        return get_chain_data()\n",
    "    \n",
    "    \n",
    "@app.route('/register_with_existing_node', methods = ['POST'])\n",
    "def register_with_existing_node():\n",
    "    node_address = request.get_json()[\"node_address\"]\n",
    "    if not new_node_address:\n",
    "        return \"Invalid data\", 400\n",
    "    \n",
    "    data = {\"new_node_address\": request.host_url}\n",
    "    headers = {\"Content-Type\": \"application/json\"}\n",
    "    \n",
    "    node_address_json = json.dumps({\"new_node_address\":node_address})\n",
    "    \n",
    "    response = requests.post(\"http://localhost:5000/register_new_node\", json = node_address_json)\n",
    "    \n",
    "    if response.status_code == 200:\n",
    "        chain_dump = response.json()['chain']\n",
    "        peer_dump = response.json()['peer']\n",
    "        \n",
    "        new_blockchain = Blockchain()\n",
    "        \n",
    "        for block in chain_dump:\n",
    "            block_hash = block.current_hash\n",
    "            block.current_hash = \"\"\n",
    "            validation = new_blockchain.append_block(block, current_hash)\n",
    "            if validation == False:\n",
    "                return \"Validation Error in block #\"+str(block.index), 500\n",
    "            \n",
    "\n",
    "    \n",
    "    \n",
    "app.run()\n"
   ]
  },
  {
   "cell_type": "code",
   "execution_count": null,
   "id": "1b75dea4",
   "metadata": {},
   "outputs": [],
   "source": []
  }
 ],
 "metadata": {
  "kernelspec": {
   "display_name": "Python 3 (ipykernel)",
   "language": "python",
   "name": "python3"
  },
  "language_info": {
   "codemirror_mode": {
    "name": "ipython",
    "version": 3
   },
   "file_extension": ".py",
   "mimetype": "text/x-python",
   "name": "python",
   "nbconvert_exporter": "python",
   "pygments_lexer": "ipython3",
   "version": "3.10.2"
  }
 },
 "nbformat": 4,
 "nbformat_minor": 5
}
