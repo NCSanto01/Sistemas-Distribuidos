{
 "cells": [
  {
   "cell_type": "code",
   "execution_count": 12,
   "id": "ed8f9f9b",
   "metadata": {},
   "outputs": [],
   "source": [
    "import json\n",
    "import hashlib\n",
    "import time\n",
    "from matplotlib import pyplot as plt\n"
   ]
  },
  {
   "cell_type": "code",
   "execution_count": 2,
   "id": "9a50fdf1",
   "metadata": {},
   "outputs": [],
   "source": [
    "class Block():\n",
    "    def __init__(self, index, transactions, timestamp, previous_hash, current_hash = \"\", nonce: int = 0):\n",
    "        self.index = index\n",
    "        self.transactions = transactions\n",
    "        self.timestamp = timestamp\n",
    "        self.previous_hash = previous_hash\n",
    "        self.current_hash = current_hash\n",
    "        self.nonce = nonce\n",
    "        \n",
    "    def compute_hash(self):\n",
    "        block_string = json.dumps(self.__dict__, sort_keys = True)\n",
    "        \n",
    "        block_hash = hashlib.sha256(block_string.encode('utf-8')).hexdigest()\n",
    "\n",
    "        return block_hash\n",
    "    \n",
    "    \n",
    "\n",
    "        \n",
    "        "
   ]
  },
  {
   "cell_type": "code",
   "execution_count": 3,
   "id": "249bb914",
   "metadata": {},
   "outputs": [
    {
     "data": {
      "text/plain": [
       "'e4a42b27c826f45421870630fbc2ec460d069d54a89a5e89d8f437547fcff8d0'"
      ]
     },
     "execution_count": 3,
     "metadata": {},
     "output_type": "execute_result"
    }
   ],
   "source": [
    "bloque = Block(1,2,3,4)\n",
    "bloque.compute_hash()"
   ]
  },
  {
   "cell_type": "markdown",
   "id": "1f3b11dc",
   "metadata": {},
   "source": [
    "## 1.2: Definición de objeto Cadena "
   ]
  },
  {
   "cell_type": "code",
   "execution_count": 4,
   "id": "509eb05f",
   "metadata": {},
   "outputs": [],
   "source": [
    "class Blockchain():\n",
    "    def __init__(self, difficulty = 2):\n",
    "        self.chain = []\n",
    "        self.create_genesis_block()\n",
    "        \n",
    "        self.difficulty = difficulty\n",
    "        \n",
    "    def create_genesis_block(self):\n",
    "        block = Block(0,[],time.time(),\"0\")\n",
    "        hash_block = block.compute_hash()\n",
    "        block.current_hash = hash_block\n",
    "        self.chain.append(block)\n",
    "     \n",
    "    @property\n",
    "    def last_block(self):\n",
    "        return self.chain[-1]\n",
    "    \n",
    "    def proof_of_work(self, block: Block):\n",
    "        zeros = \"\"\n",
    "        for i in range(self.difficulty):\n",
    "            zeros = zeros + \"0\"\n",
    "        print(\"Zeros: \" + zeros)\n",
    "        if zeros != \"\":\n",
    "            while block.current_hash.startswith(zeros) == False:\n",
    "                block.nonce = block.nonce + 1\n",
    "                block.previous_hash = block.current_hash\n",
    "                block.current_hash = block.compute_hash()\n",
    "        else:\n",
    "            block.current_hash = block.compute_hash()\n",
    "\n",
    "        return block.current_hash\n",
    "        "
   ]
  },
  {
   "cell_type": "code",
   "execution_count": 5,
   "id": "0eb95141",
   "metadata": {},
   "outputs": [
    {
     "data": {
      "text/plain": [
       "{'index': 0,\n",
       " 'transactions': [],\n",
       " 'timestamp': 1681811287.7096457,\n",
       " 'previous_hash': '0',\n",
       " 'current_hash': 'ac4f19a4bb5c2d1caa60e493afd81a80f11e7cf5f7305e6ca56d2a644d648b1e',\n",
       " 'nonce': 0}"
      ]
     },
     "execution_count": 5,
     "metadata": {},
     "output_type": "execute_result"
    }
   ],
   "source": [
    "blockchain = Blockchain(difficulty=3)\n",
    "blockchain.last_block.__dict__"
   ]
  },
  {
   "cell_type": "code",
   "execution_count": 6,
   "id": "7787a414",
   "metadata": {},
   "outputs": [
    {
     "data": {
      "text/plain": [
       "{'index': 1,\n",
       " 'transactions': [],\n",
       " 'timestamp': 1681811288.8786693,\n",
       " 'previous_hash': 'ac4f19a4bb5c2d1caa60e493afd81a80f11e7cf5f7305e6ca56d2a644d648b1e',\n",
       " 'current_hash': '',\n",
       " 'nonce': 0}"
      ]
     },
     "execution_count": 6,
     "metadata": {},
     "output_type": "execute_result"
    }
   ],
   "source": [
    "new_index = blockchain.last_block.index + 1\n",
    "new_transaction = []\n",
    "new_timestamp = time.time()\n",
    "new_previous_hash = blockchain.last_block.current_hash\n",
    "newblock = Block(new_index, new_transaction, new_timestamp, new_previous_hash)\n",
    "newblock.__dict__"
   ]
  },
  {
   "cell_type": "code",
   "execution_count": 7,
   "id": "f0a1fd03",
   "metadata": {},
   "outputs": [
    {
     "name": "stdout",
     "output_type": "stream",
     "text": [
      "Zeros: 000\n"
     ]
    },
    {
     "data": {
      "text/plain": [
       "'00086374d625005f90945525669a159e18d85d19686888809b92112cdf5d2de8'"
      ]
     },
     "execution_count": 7,
     "metadata": {},
     "output_type": "execute_result"
    }
   ],
   "source": [
    "blockchain.proof_of_work(newblock)"
   ]
  },
  {
   "cell_type": "code",
   "execution_count": 8,
   "id": "72047d05",
   "metadata": {},
   "outputs": [
    {
     "data": {
      "text/plain": [
       "5589"
      ]
     },
     "execution_count": 8,
     "metadata": {},
     "output_type": "execute_result"
    }
   ],
   "source": [
    "newblock.nonce"
   ]
  },
  {
   "cell_type": "code",
   "execution_count": 15,
   "id": "d63b13a5",
   "metadata": {},
   "outputs": [
    {
     "name": "stdout",
     "output_type": "stream",
     "text": [
      "Difficulty: 0\n",
      "Zeros: \n",
      "0\n",
      "Difficulty: 1\n",
      "Zeros: 0\n",
      "8\n",
      "Difficulty: 2\n",
      "Zeros: 00\n",
      "135\n",
      "Difficulty: 3\n",
      "Zeros: 000\n",
      "1084\n",
      "Difficulty: 4\n",
      "Zeros: 0000\n",
      "19648\n",
      "Difficulty: 5\n",
      "Zeros: 00000\n",
      "582315\n",
      "Difficulty: 6\n",
      "Zeros: 000000\n",
      "2595204\n"
     ]
    }
   ],
   "source": [
    "difficulty = 0\n",
    "times = []\n",
    "for i in range(7):\n",
    "    print(\"Difficulty: \"+str(difficulty))\n",
    "    blockchain = Blockchain(difficulty=difficulty)\n",
    "    new_index = blockchain.last_block.index + 1\n",
    "    new_transaction = [\"Transaccion 1\"]\n",
    "    new_timestamp = time.time()\n",
    "    new_previous_hash = blockchain.last_block.current_hash\n",
    "    newblock = Block(new_index, new_transaction, new_timestamp, new_previous_hash)\n",
    "    newblock.__dict__\n",
    "    start = time.time()\n",
    "    blockchain.proof_of_work(newblock)\n",
    "    end = time.time()\n",
    "    print(newblock.nonce)\n",
    "    times.append(end-start)\n",
    "    \n",
    "    difficulty = difficulty + 1\n"
   ]
  },
  {
   "cell_type": "code",
   "execution_count": 16,
   "id": "2731b407",
   "metadata": {},
   "outputs": [
    {
     "data": {
      "image/png": "[encoded data removed]",
      "text/plain": [
       "<Figure size 640x480 with 1 Axes>"
      ]
     },
     "metadata": {},
     "output_type": "display_data"
    }
   ],
   "source": [
    "plt.plot([0,1,2,3,4,5,6],times)\n",
    "plt.title(\"Time to compute hash\")\n",
    "plt.xlabel(\"Number of zeros\")\n",
    "plt.ylabel(\"Seconds\")\n",
    "plt.show()\n"
   ]
  },
  {
   "cell_type": "code",
   "execution_count": null,
   "id": "e9d73430",
   "metadata": {},
   "outputs": [],
   "source": []
  }
 ],
 "metadata": {
  "kernelspec": {
   "display_name": "Python 3 (ipykernel)",
   "language": "python",
   "name": "python3"
  },
  "language_info": {
   "codemirror_mode": {
    "name": "ipython",
    "version": 3
   },
   "file_extension": ".py",
   "mimetype": "text/x-python",
   "name": "python",
   "nbconvert_exporter": "python",
   "pygments_lexer": "ipython3",
   "version": "3.10.2"
  }
 },
 "nbformat": 4,
 "nbformat_minor": 5
}
