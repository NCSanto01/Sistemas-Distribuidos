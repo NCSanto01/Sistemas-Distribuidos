{
 "cells": [
  {
   "cell_type": "code",
   "execution_count": null,
   "id": "77180661",
   "metadata": {},
   "outputs": [
    {
     "name": "stdout",
     "output_type": "stream",
     "text": [
      " * Serving Flask app 'ipynb.fs.full.WebApp'\n",
      " * Debug mode: off\n"
     ]
    },
    {
     "name": "stderr",
     "output_type": "stream",
     "text": [
      "WARNING: This is a development server. Do not use it in a production deployment. Use a production WSGI server instead.\n",
      " * Running on http://127.0.0.1:5000\n",
      "Press CTRL+C to quit\n",
      "127.0.0.1 - - [28/Apr/2023 16:39:03] \"GET /main_page HTTP/1.1\" 200 -\n",
      "127.0.0.1 - - [28/Apr/2023 16:39:08] \"GET / HTTP/1.1\" 200 -\n",
      "127.0.0.1 - - [28/Apr/2023 16:39:11] \"POST /main_page HTTP/1.1\" 200 -\n",
      "127.0.0.1 - - [28/Apr/2023 16:39:13] \"GET /fetch_pending HTTP/1.1\" 302 -\n",
      "127.0.0.1 - - [28/Apr/2023 16:39:13] \"GET /main_page HTTP/1.1\" 200 -\n",
      "127.0.0.1 - - [28/Apr/2023 16:39:35] \"POST /submit_transaction HTTP/1.1\" 302 -\n",
      "127.0.0.1 - - [28/Apr/2023 16:39:35] \"GET /main_page HTTP/1.1\" 200 -\n"
     ]
    },
    {
     "name": "stdout",
     "output_type": "stream",
     "text": [
      "http://127.0.0.1:8000/new_transaction\n",
      "<Response [201]>\n"
     ]
    },
    {
     "name": "stderr",
     "output_type": "stream",
     "text": [
      "127.0.0.1 - - [28/Apr/2023 16:39:36] \"GET /fetch_pending HTTP/1.1\" 302 -\n",
      "127.0.0.1 - - [28/Apr/2023 16:39:36] \"GET /main_page HTTP/1.1\" 200 -\n",
      "127.0.0.1 - - [28/Apr/2023 16:39:40] \"GET /fetch_pending HTTP/1.1\" 302 -\n",
      "127.0.0.1 - - [28/Apr/2023 16:39:40] \"GET /main_page HTTP/1.1\" 200 -\n",
      "127.0.0.1 - - [28/Apr/2023 16:40:45] \"GET /fetch_pending HTTP/1.1\" 302 -\n",
      "127.0.0.1 - - [28/Apr/2023 16:40:45] \"GET /main_page HTTP/1.1\" 200 -\n",
      "127.0.0.1 - - [28/Apr/2023 16:40:47] \"GET /fetch_chain HTTP/1.1\" 302 -\n",
      "127.0.0.1 - - [28/Apr/2023 16:40:47] \"GET /main_page HTTP/1.1\" 200 -\n",
      "127.0.0.1 - - [28/Apr/2023 16:40:49] \"GET /fetch_pending HTTP/1.1\" 302 -\n",
      "127.0.0.1 - - [28/Apr/2023 16:40:49] \"GET /main_page HTTP/1.1\" 200 -\n",
      "127.0.0.1 - - [28/Apr/2023 16:40:50] \"GET /fetch_chain HTTP/1.1\" 302 -\n",
      "127.0.0.1 - - [28/Apr/2023 16:40:50] \"GET /main_page HTTP/1.1\" 200 -\n",
      "127.0.0.1 - - [28/Apr/2023 16:41:06] \"POST /submit_transaction HTTP/1.1\" 302 -\n",
      "127.0.0.1 - - [28/Apr/2023 16:41:06] \"GET /main_page HTTP/1.1\" 200 -\n"
     ]
    },
    {
     "name": "stdout",
     "output_type": "stream",
     "text": [
      "http://127.0.0.1:8000/new_transaction\n",
      "<Response [201]>\n"
     ]
    },
    {
     "name": "stderr",
     "output_type": "stream",
     "text": [
      "127.0.0.1 - - [28/Apr/2023 16:41:07] \"GET /fetch_chain HTTP/1.1\" 302 -\n",
      "127.0.0.1 - - [28/Apr/2023 16:41:07] \"GET /main_page HTTP/1.1\" 200 -\n",
      "127.0.0.1 - - [28/Apr/2023 16:41:10] \"GET /fetch_pending HTTP/1.1\" 302 -\n",
      "127.0.0.1 - - [28/Apr/2023 16:41:10] \"GET /main_page HTTP/1.1\" 200 -\n",
      "127.0.0.1 - - [28/Apr/2023 16:41:15] \"GET /fetch_chain HTTP/1.1\" 302 -\n",
      "127.0.0.1 - - [28/Apr/2023 16:41:15] \"GET /main_page HTTP/1.1\" 200 -\n",
      "127.0.0.1 - - [28/Apr/2023 16:44:50] \"GET / HTTP/1.1\" 200 -\n",
      "127.0.0.1 - - [28/Apr/2023 16:44:55] \"POST /main_page HTTP/1.1\" 200 -\n",
      "127.0.0.1 - - [28/Apr/2023 16:44:59] \"GET /fetch_pending HTTP/1.1\" 302 -\n",
      "127.0.0.1 - - [28/Apr/2023 16:44:59] \"GET /main_page HTTP/1.1\" 200 -\n",
      "127.0.0.1 - - [28/Apr/2023 16:45:00] \"GET /fetch_chain HTTP/1.1\" 302 -\n",
      "127.0.0.1 - - [28/Apr/2023 16:45:00] \"GET /main_page HTTP/1.1\" 200 -\n",
      "127.0.0.1 - - [28/Apr/2023 16:45:02] \"GET /fetch_chain HTTP/1.1\" 302 -\n",
      "127.0.0.1 - - [28/Apr/2023 16:45:02] \"GET /main_page HTTP/1.1\" 200 -\n",
      "127.0.0.1 - - [28/Apr/2023 16:45:14] \"POST /submit_transaction HTTP/1.1\" 302 -\n",
      "127.0.0.1 - - [28/Apr/2023 16:45:14] \"GET /main_page HTTP/1.1\" 200 -\n"
     ]
    },
    {
     "name": "stdout",
     "output_type": "stream",
     "text": [
      "http://127.0.0.1:8002/new_transaction\n",
      "<Response [201]>\n"
     ]
    },
    {
     "name": "stderr",
     "output_type": "stream",
     "text": [
      "127.0.0.1 - - [28/Apr/2023 16:45:16] \"GET /fetch_pending HTTP/1.1\" 302 -\n",
      "127.0.0.1 - - [28/Apr/2023 16:45:16] \"GET /main_page HTTP/1.1\" 200 -\n",
      "127.0.0.1 - - [28/Apr/2023 16:45:19] \"GET /fetch_pending HTTP/1.1\" 302 -\n",
      "127.0.0.1 - - [28/Apr/2023 16:45:19] \"GET /main_page HTTP/1.1\" 200 -\n",
      "127.0.0.1 - - [28/Apr/2023 16:45:56] \"GET /index HTTP/1.1\" 404 -\n",
      "127.0.0.1 - - [28/Apr/2023 16:46:00] \"GET /index HTTP/1.1\" 404 -\n",
      "127.0.0.1 - - [28/Apr/2023 16:46:10] \"GET / HTTP/1.1\" 200 -\n",
      "127.0.0.1 - - [28/Apr/2023 16:46:14] \"POST /main_page HTTP/1.1\" 200 -\n",
      "127.0.0.1 - - [28/Apr/2023 16:46:17] \"GET /fetch_pending HTTP/1.1\" 302 -\n",
      "127.0.0.1 - - [28/Apr/2023 16:46:17] \"GET /main_page HTTP/1.1\" 200 -\n",
      "127.0.0.1 - - [28/Apr/2023 16:46:18] \"GET /fetch_chain HTTP/1.1\" 302 -\n",
      "127.0.0.1 - - [28/Apr/2023 16:46:18] \"GET /main_page HTTP/1.1\" 200 -\n",
      "127.0.0.1 - - [28/Apr/2023 16:46:24] \"GET /index HTTP/1.1\" 404 -\n",
      "127.0.0.1 - - [28/Apr/2023 16:46:28] \"GET / HTTP/1.1\" 200 -\n",
      "127.0.0.1 - - [28/Apr/2023 16:46:31] \"POST /main_page HTTP/1.1\" 200 -\n",
      "127.0.0.1 - - [28/Apr/2023 16:46:33] \"GET /fetch_pending HTTP/1.1\" 302 -\n",
      "127.0.0.1 - - [28/Apr/2023 16:46:33] \"GET /main_page HTTP/1.1\" 200 -\n",
      "127.0.0.1 - - [28/Apr/2023 16:46:34] \"GET /fetch_chain HTTP/1.1\" 302 -\n",
      "127.0.0.1 - - [28/Apr/2023 16:46:34] \"GET /main_page HTTP/1.1\" 200 -\n",
      "127.0.0.1 - - [28/Apr/2023 16:46:36] \"GET /fetch_pending HTTP/1.1\" 302 -\n",
      "127.0.0.1 - - [28/Apr/2023 16:46:36] \"GET /main_page HTTP/1.1\" 200 -\n",
      "127.0.0.1 - - [28/Apr/2023 16:46:43] \"GET /fetch_pending HTTP/1.1\" 302 -\n",
      "127.0.0.1 - - [28/Apr/2023 16:46:43] \"GET /main_page HTTP/1.1\" 200 -\n",
      "127.0.0.1 - - [28/Apr/2023 16:46:44] \"GET /fetch_chain HTTP/1.1\" 302 -\n",
      "127.0.0.1 - - [28/Apr/2023 16:46:44] \"GET /main_page HTTP/1.1\" 200 -\n",
      "127.0.0.1 - - [28/Apr/2023 16:46:46] \"GET /index HTTP/1.1\" 404 -\n",
      "127.0.0.1 - - [28/Apr/2023 16:46:49] \"GET / HTTP/1.1\" 200 -\n",
      "127.0.0.1 - - [28/Apr/2023 16:46:55] \"POST /main_page HTTP/1.1\" 200 -\n",
      "127.0.0.1 - - [28/Apr/2023 16:46:57] \"GET /fetch_chain HTTP/1.1\" 302 -\n",
      "127.0.0.1 - - [28/Apr/2023 16:46:57] \"GET /main_page HTTP/1.1\" 200 -\n",
      "127.0.0.1 - - [28/Apr/2023 16:46:58] \"GET /fetch_pending HTTP/1.1\" 302 -\n",
      "127.0.0.1 - - [28/Apr/2023 16:46:58] \"GET /main_page HTTP/1.1\" 200 -\n",
      "127.0.0.1 - - [28/Apr/2023 16:46:59] \"GET /fetch_chain HTTP/1.1\" 302 -\n",
      "127.0.0.1 - - [28/Apr/2023 16:46:59] \"GET /main_page HTTP/1.1\" 200 -\n"
     ]
    },
    {
     "name": "stdout",
     "output_type": "stream",
     "text": [
      " * Serving Flask app 'ipynb.fs.full.WebApp'\n",
      " * Debug mode: off\n"
     ]
    },
    {
     "name": "stderr",
     "output_type": "stream",
     "text": [
      "WARNING: This is a development server. Do not use it in a production deployment. Use a production WSGI server instead.\n",
      " * Running on http://127.0.0.1:5000\n",
      "Press CTRL+C to quit\n"
     ]
    }
   ],
   "source": [
    "from ipynb.fs.full.WebApp import app\n",
    "\n",
    "app.run(debug=False)"
   ]
  },
  {
   "cell_type": "code",
   "execution_count": null,
   "id": "125c8d65",
   "metadata": {},
   "outputs": [],
   "source": []
  }
 ],
 "metadata": {
  "kernelspec": {
   "display_name": "Python 3 (ipykernel)",
   "language": "python",
   "name": "python3"
  },
  "language_info": {
   "codemirror_mode": {
    "name": "ipython",
    "version": 3
   },
   "file_extension": ".py",
   "mimetype": "text/x-python",
   "name": "python",
   "nbconvert_exporter": "python",
   "pygments_lexer": "ipython3",
   "version": "3.11.3"
  }
 },
 "nbformat": 4,
 "nbformat_minor": 5
}
