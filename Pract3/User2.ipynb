{
 "cells": [
  {
   "cell_type": "markdown",
   "id": "83cd2121",
   "metadata": {},
   "source": [
    "### MULTICAST-1.1"
   ]
  },
  {
   "cell_type": "code",
   "execution_count": 4,
   "id": "74088f1e",
   "metadata": {},
   "outputs": [
    {
     "name": "stdout",
     "output_type": "stream",
     "text": [
      "Stopping thread\n"
     ]
    }
   ],
   "source": [
    "import socket\n",
    "import struct\n",
    "\n",
    "MCAST_GRP = '224.1.1.1'\n",
    "MCAST_PORT = 5007\n",
    "\n",
    "sock = socket.socket(socket.AF_INET, socket.SOCK_DGRAM, socket.IPPROTO_UDP)\n",
    "\n",
    "sock.setsockopt(socket.SOL_SOCKET, socket.SO_REUSEADDR, 1)\n",
    "\n",
    "sock.bind(('', MCAST_PORT))\n",
    "sock.sendto(str.encode(\"Hello this is user 2\"), (MCAST_GRP, MCAST_PORT))\n",
    "\n",
    "mreq = struct.pack(\"4sl\", socket.inet_aton(MCAST_GRP), socket.INADDR_ANY)\n",
    "sock.setsockopt(socket.IPPROTO_IP, socket.IP_ADD_MEMBERSHIP, mreq)\n",
    "\n",
    "ttl = struct.pack('b', 1)\n",
    "sock.setsockopt(socket.IPPROTO_IP, socket.IP_MULTICAST_TTL, ttl)\n",
    "\n",
    "while True:\n",
    "    data = sock.recv(1024).decode()\n",
    "    if data == \"bye\":\n",
    "        print(\"Stopping thread\")\n",
    "        break\n",
    "\n",
    "    print(data)"
   ]
  },
  {
   "cell_type": "markdown",
   "id": "d86ba037",
   "metadata": {},
   "source": [
    "### MULTICAST-1.2"
   ]
  },
  {
   "cell_type": "code",
   "execution_count": 1,
   "id": "656747f7",
   "metadata": {},
   "outputs": [],
   "source": [
    "import threading\n",
    "import time\n",
    "from datetime import datetime\n",
    "\n",
    "global msg\n",
    "msg = \"\"\n",
    "\n",
    "def listen(name):\n",
    "    while msg !=\"quit\":\n",
    "        time.sleep(1)\n",
    "        data = sock.recv(1024).decode()\n",
    "        print(data)\n",
    "    print(\"Stopping thread\")\n",
    "\n",
    "\n",
    "def start_listen_thread():\n",
    "    name=\"thread1\"\n",
    "    reader = threading.Thread(target=listen, args=(name,))\n",
    "    reader.start()"
   ]
  },
  {
   "cell_type": "code",
   "execution_count": 2,
   "id": "c45910b0",
   "metadata": {},
   "outputs": [
    {
     "name": "stdout",
     "output_type": "stream",
     "text": [
      "User 2 joined the chat\n",
      "Input messsage: Hi!\n",
      "User 2: Hi!\n",
      "Input messsage: quit\n",
      "User 2 left the chat\n",
      "Stopping thread\n"
     ]
    }
   ],
   "source": [
    "import socket\n",
    "import struct\n",
    "\n",
    "MCAST_GRP = '224.1.1.1'\n",
    "MCAST_PORT = 5007\n",
    "\n",
    "sock = socket.socket(socket.AF_INET, socket.SOCK_DGRAM, socket.IPPROTO_UDP)\n",
    "\n",
    "sock.setsockopt(socket.SOL_SOCKET, socket.SO_REUSEADDR, 1)\n",
    "\n",
    "sock.bind(('', MCAST_PORT))\n",
    "sock.sendto(str.encode(\"User 2 joined the chat\"), (MCAST_GRP, MCAST_PORT))\n",
    "print(\"User 2 joined the chat\")\n",
    "\n",
    "mreq = struct.pack(\"4sl\", socket.inet_aton(MCAST_GRP), socket.INADDR_ANY)\n",
    "sock.setsockopt(socket.IPPROTO_IP, socket.IP_ADD_MEMBERSHIP, mreq)\n",
    "\n",
    "ttl = struct.pack('b', 1)\n",
    "sock.setsockopt(socket.IPPROTO_IP, socket.IP_MULTICAST_TTL, ttl)\n",
    "\n",
    "global stop\n",
    "stop = False\n",
    "\n",
    "\n",
    "start_listen_thread()\n",
    "global msg\n",
    "\n",
    "while True:\n",
    "\n",
    "    msg = input(\"Input messsage: \")\n",
    "    \n",
    "    if msg == \"quit\":\n",
    "        msg_format = \"User 2 left the chat\"\n",
    "        sock.sendto(msg_format.encode(), (MCAST_GRP, MCAST_PORT))\n",
    "\n",
    "        ttl = struct.pack('b', 1)\n",
    "        sock.setsockopt(socket.IPPROTO_IP, socket.IP_MULTICAST_TTL, ttl)\n",
    "        break\n",
    "    else:\n",
    "        msg_format = \"User 2: \"+msg\n",
    "        sock.sendto(msg_format.encode(), (MCAST_GRP, MCAST_PORT))\n",
    "\n",
    "        ttl = struct.pack('b', 1)\n",
    "        sock.setsockopt(socket.IPPROTO_IP, socket.IP_MULTICAST_TTL, ttl)\n",
    "    time.sleep(1)\n",
    "\n",
    "\n"
   ]
  },
  {
   "cell_type": "code",
   "execution_count": null,
   "id": "bf9b8de1",
   "metadata": {},
   "outputs": [],
   "source": []
  }
 ],
 "metadata": {
  "kernelspec": {
   "display_name": "Python 3 (ipykernel)",
   "language": "python",
   "name": "python3"
  },
  "language_info": {
   "codemirror_mode": {
    "name": "ipython",
    "version": 3
   },
   "file_extension": ".py",
   "mimetype": "text/x-python",
   "name": "python",
   "nbconvert_exporter": "python",
   "pygments_lexer": "ipython3",
   "version": "3.11.3"
  }
 },
 "nbformat": 4,
 "nbformat_minor": 5
}
