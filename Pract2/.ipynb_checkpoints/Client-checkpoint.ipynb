{
 "cells": [
  {
   "cell_type": "markdown",
   "id": "ef2d1872",
   "metadata": {},
   "source": [
    "### TCP 1.1"
   ]
  },
  {
   "cell_type": "code",
   "execution_count": 10,
   "id": "65a0abae",
   "metadata": {},
   "outputs": [
    {
     "name": "stdout",
     "output_type": "stream",
     "text": [
      "Input message: Client 1\n",
      "RX:  Hi TCP Client\n"
     ]
    }
   ],
   "source": [
    "import socket\n",
    "import sys\n",
    "\n",
    "# Create a TCP/IP socket\n",
    "\n",
    "msg = input(\"Input message: \")\n",
    "\n",
    "server_address = (\"localhost\", 6780)\n",
    "sock = socket.socket(family=socket.AF_INET, type=socket.SOCK_STREAM)\n",
    "sock.connect(server_address)\n",
    "sock.sendall(msg.encode())\n",
    "\n",
    "data = sock.recv(1024).decode()\n",
    "print(\"RX: \", data)\n",
    "sock.close()"
   ]
  },
  {
   "cell_type": "markdown",
   "id": "dba40e88",
   "metadata": {},
   "source": [
    "### TCP 1.2"
   ]
  },
  {
   "cell_type": "code",
   "execution_count": 4,
   "id": "520cc2d2",
   "metadata": {},
   "outputs": [
    {
     "name": "stdout",
     "output_type": "stream",
     "text": [
      "Input message: exit\n",
      "RX:  Server shutting down\n",
      "RX:  Server shutting down adasdadasdadad adas\n",
      "RX:  Server shutting down adasdadasdadad adasdadasdads\n"
     ]
    }
   ],
   "source": [
    "import socket\n",
    "import sys\n",
    "\n",
    "# Create a TCP/IP socket\n",
    "\n",
    "msg = input(\"Input message: \")\n",
    "MTU = 20\n",
    "\n",
    "rx = \"\"\n",
    "\n",
    "server_address = (\"localhost\", 6780)\n",
    "sock = socket.socket(family=socket.AF_INET, type=socket.SOCK_STREAM)\n",
    "sock.connect(server_address)\n",
    "sock.sendall(msg.encode())\n",
    "\n",
    "while True:\n",
    "    data = sock.recv(MTU).decode()\n",
    "    if len(data)==MTU:\n",
    "        rx = rx + data\n",
    "        print(\"RX: \", rx)\n",
    "    else:\n",
    "        rx = rx + data\n",
    "        print(\"RX: \", rx)\n",
    "        break\n",
    "        \n",
    "sock.close()"
   ]
  },
  {
   "cell_type": "markdown",
   "id": "c3deea20",
   "metadata": {},
   "source": [
    "### TCP 1.3"
   ]
  },
  {
   "cell_type": "code",
   "execution_count": 7,
   "id": "efd7918b",
   "metadata": {},
   "outputs": [
    {
     "name": "stdout",
     "output_type": "stream",
     "text": [
      "Total time:  0:00:12.019362\n",
      "Average time:  0:00:00.000120\n",
      "Server shutting down\n"
     ]
    }
   ],
   "source": [
    "import socket\n",
    "import sys\n",
    "import datetime\n",
    "\n",
    "# Create a TCP/IP socket\n",
    "\n",
    "# msg = input(\"Input message: \")\n",
    "iteraciones = 100000\n",
    "count = 0\n",
    "\n",
    "server_address = (\"localhost\", 6780)\n",
    "sock = socket.socket(family=socket.AF_INET, type=socket.SOCK_STREAM)\n",
    "sock.connect(server_address)\n",
    "\n",
    "acc_time =datetime.timedelta(days = 0)\n",
    "\n",
    "while count < iteraciones:\n",
    "    client_time = datetime.datetime.now()\n",
    "    sock.sendall(\"Requesting time\".encode())\n",
    "    data = sock.recv(1024).decode()\n",
    "    server_time = datetime.datetime.strptime(data, \"%m/%d/%Y, %H:%M:%S.%f\")\n",
    "    delta = server_time - client_time\n",
    "    acc_time = acc_time + delta\n",
    "    count = count + 1\n",
    "\n",
    "sock.sendall(\"exit\".encode())\n",
    "data = sock.recv(1024).decode()\n",
    "\n",
    "\n",
    "print(\"Total time: \", acc_time)\n",
    "print(\"Average time: \", str(acc_time/iteraciones))\n",
    "print(data)\n",
    "sock.close()"
   ]
  }
 ],
 "metadata": {
  "kernelspec": {
   "display_name": "Python 3 (ipykernel)",
   "language": "python",
   "name": "python3"
  },
  "language_info": {
   "codemirror_mode": {
    "name": "ipython",
    "version": 3
   },
   "file_extension": ".py",
   "mimetype": "text/x-python",
   "name": "python",
   "nbconvert_exporter": "python",
   "pygments_lexer": "ipython3",
   "version": "3.10.2"
  }
 },
 "nbformat": 4,
 "nbformat_minor": 5
}
