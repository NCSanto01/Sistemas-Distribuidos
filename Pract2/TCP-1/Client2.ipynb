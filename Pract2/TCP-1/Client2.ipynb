{
 "cells": [
  {
   "cell_type": "markdown",
   "id": "928e4f62",
   "metadata": {},
   "source": [
    "### TCP 1.1"
   ]
  },
  {
   "cell_type": "code",
   "execution_count": 1,
   "id": "15bbc763",
   "metadata": {},
   "outputs": [
    {
     "name": "stdout",
     "output_type": "stream",
     "text": [
      "Input message: Client 2\n",
      "RX:  Hi TCP Client\n"
     ]
    }
   ],
   "source": [
    "import socket\n",
    "import sys\n",
    "\n",
    "# Create a TCP/IP socket\n",
    "\n",
    "msg = input(\"Input message: \")\n",
    "\n",
    "server_address = (\"localhost\", 6780)\n",
    "sock = socket.socket(family=socket.AF_INET, type=socket.SOCK_STREAM)\n",
    "sock.connect(server_address)\n",
    "sock.sendall(msg.encode())\n",
    "\n",
    "data = sock.recv(1024).decode()\n",
    "print(\"RX: \", data)\n",
    "sock.close()"
   ]
  }
 ],
 "metadata": {
  "kernelspec": {
   "display_name": "Python 3 (ipykernel)",
   "language": "python",
   "name": "python3"
  },
  "language_info": {
   "codemirror_mode": {
    "name": "ipython",
    "version": 3
   },
   "file_extension": ".py",
   "mimetype": "text/x-python",
   "name": "python",
   "nbconvert_exporter": "python",
   "pygments_lexer": "ipython3",
   "version": "3.10.2"
  }
 },
 "nbformat": 4,
 "nbformat_minor": 5
}
