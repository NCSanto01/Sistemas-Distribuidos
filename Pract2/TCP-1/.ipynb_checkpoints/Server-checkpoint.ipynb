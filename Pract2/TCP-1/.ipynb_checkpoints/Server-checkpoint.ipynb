{
 "cells": [
  {
   "cell_type": "markdown",
   "id": "cecc4d38",
   "metadata": {},
   "source": [
    "### TCP 1.1"
   ]
  },
  {
   "cell_type": "code",
   "execution_count": null,
   "id": "59967b1a",
   "metadata": {},
   "outputs": [
    {
     "name": "stdout",
     "output_type": "stream",
     "text": [
      "RX Client 1\n",
      "RX Client 2\n"
     ]
    }
   ],
   "source": [
    "import socket\n",
    "import sys\n",
    "\n",
    "msg = \"Hello, I'm the server\"\n",
    "\n",
    "server_address = (\"localhost\", 6780)\n",
    "sock = socket.socket(family=socket.AF_INET, type=socket.SOCK_STREAM)\n",
    "sock.bind(server_address)\n",
    "\n",
    "while True:\n",
    "    sock.listen(1)\n",
    "    connection, client_address = sock.accept()\n",
    "\n",
    "    data = connection.recv(1024).decode()\n",
    "\n",
    "    print(\"RX\", data)\n",
    "\n",
    "    if data == \"exit\":\n",
    "        connection.sendall(\"Server shutting down\".encode())\n",
    "        \n",
    "        connection.close()\n",
    "        break\n",
    "    else:\n",
    "        connection.sendall(\"Hi TCP Client\".encode())\n"
   ]
  },
  {
   "cell_type": "markdown",
   "id": "a57770cc",
   "metadata": {},
   "source": [
    "### TCP 1.2"
   ]
  },
  {
   "cell_type": "code",
   "execution_count": 1,
   "id": "12bcff16",
   "metadata": {},
   "outputs": [
    {
     "name": "stdout",
     "output_type": "stream",
     "text": [
      "RX:  Hello\n",
      "RX:  Hello\n",
      "RX:  Hello\n",
      "RX:  Hello\n",
      "RX:  Hello\n",
      "RX:  exit\n"
     ]
    }
   ],
   "source": [
    "import socket\n",
    "import sys\n",
    "\n",
    "msg = \"Hello, I'm the server\"\n",
    "\n",
    "server_address = (\"localhost\", 6780)\n",
    "sock = socket.socket(family=socket.AF_INET, type=socket.SOCK_STREAM)\n",
    "sock.bind(server_address)\n",
    "MTU = 20\n",
    "\n",
    "while True:\n",
    "    sock.listen(1)\n",
    "    connection, client_address = sock.accept()\n",
    "    rx = \"\"\n",
    "\n",
    "    \n",
    "    while True:\n",
    "        data = connection.recv(MTU).decode()\n",
    "        if len(data)==MTU:\n",
    "            rx = rx + data\n",
    "            print(\"RX: \", rx)\n",
    "        else:\n",
    "            rx = rx + data\n",
    "            print(\"RX: \", rx)\n",
    "            break\n",
    "\n",
    "\n",
    "    if rx == \"exit\":\n",
    "        connection.sendall(\"Server shutting down. This is a very long message\".encode())\n",
    "        \n",
    "        connection.close()\n",
    "        break\n",
    "    else:\n",
    "        connection.sendall(\"Hi TCP Client\".encode())\n"
   ]
  },
  {
   "cell_type": "markdown",
   "id": "2d2cfe7c",
   "metadata": {},
   "source": [
    "### TCP 1.3"
   ]
  },
  {
   "cell_type": "code",
   "execution_count": 4,
   "id": "fe496b69",
   "metadata": {},
   "outputs": [],
   "source": [
    "import socket\n",
    "import sys\n",
    "import datetime\n",
    "\n",
    "\n",
    "msg = \"Hello, I'm the server\"\n",
    "\n",
    "server_address = (\"localhost\", 6780)\n",
    "sock = socket.socket(family=socket.AF_INET, type=socket.SOCK_STREAM)\n",
    "sock.bind(server_address)\n",
    "sock.listen(1)\n",
    "connection, client_address = sock.accept()\n",
    "while True:\n",
    "\n",
    "    data = connection.recv(1024).decode()\n",
    "\n",
    "    if data == \"exit\":\n",
    "        connection.sendall(\"Server shutting down\".encode())\n",
    "        \n",
    "        connection.close()\n",
    "        break\n",
    "    else:\n",
    "        now = datetime.datetime.now()\n",
    "        date_time = now.strftime(\"%m/%d/%Y, %H:%M:%S.%f\") # datetime a string\n",
    "        connection.sendall(date_time.encode())\n"
   ]
  },
  {
   "cell_type": "code",
   "execution_count": null,
   "id": "c0fa7525",
   "metadata": {},
   "outputs": [],
   "source": []
  }
 ],
 "metadata": {
  "kernelspec": {
   "display_name": "Python 3 (ipykernel)",
   "language": "python",
   "name": "python3"
  },
  "language_info": {
   "codemirror_mode": {
    "name": "ipython",
    "version": 3
   },
   "file_extension": ".py",
   "mimetype": "text/x-python",
   "name": "python",
   "nbconvert_exporter": "python",
   "pygments_lexer": "ipython3",
   "version": "3.10.2"
  }
 },
 "nbformat": 4,
 "nbformat_minor": 5
}
