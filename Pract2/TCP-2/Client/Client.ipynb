{
 "cells": [
  {
   "cell_type": "markdown",
   "id": "aa7b410f",
   "metadata": {},
   "source": [
    "### TCP-2.1"
   ]
  },
  {
   "cell_type": "code",
   "execution_count": 2,
   "id": "c4015ada",
   "metadata": {},
   "outputs": [
    {
     "name": "stdout",
     "output_type": "stream",
     "text": [
      "Input message: bye\n",
      "RX:  Server shutting down\n"
     ]
    }
   ],
   "source": [
    "import socket\n",
    "import sys\n",
    "\n",
    "# Create a TCP/IP socket\n",
    "\n",
    "server_address = (\"localhost\", 6780)\n",
    "sock = socket.socket(family=socket.AF_INET, type=socket.SOCK_STREAM)\n",
    "sock.connect(server_address)\n",
    "\n",
    "\n",
    "while True:\n",
    "    msg = input(\"Input message: \")\n",
    "    sock.sendall(msg.encode())\n",
    "    data = sock.recv(1024).decode()\n",
    "    print(\"RX: \", data)\n",
    "\n",
    "    command = msg.split()\n",
    "\n",
    "    if command[0] == \"get\":\n",
    "        if data.split()[0]!= \"Error\":\n",
    "            file_contents = data\n",
    "            file_name = command[1]\n",
    "            f = open(file_name, \"w+\")\n",
    "            f.write(file_contents)\n",
    "            f.close()\n",
    "\n",
    "    elif command[0] == \"bye\":\n",
    "        sock.close()\n",
    "        break\n",
    "\n"
   ]
  },
  {
   "cell_type": "markdown",
   "id": "7541fcb8",
   "metadata": {},
   "source": [
    "### TCP-2.2"
   ]
  },
  {
   "cell_type": "code",
   "execution_count": 5,
   "id": "1a99a0e0",
   "metadata": {},
   "outputs": [
    {
     "name": "stdout",
     "output_type": "stream",
     "text": [
      "Input command: put file.txt\n",
      "RX:  File needs to be locked first in order to be updated\n",
      "Input command: get file.txt\n",
      "RX:  File file.txt retrieved\n",
      "Input command: put file.txt\n",
      "RX:  File needs to be locked first in order to be updated\n",
      "Input command: lock f\n",
      "RX:  File not found\n",
      "Input command: lock file.txt\n",
      "RX:  File file.txt locked succesfully by client ('127.0.0.1', 56572)\n",
      "Input command: put file\n",
      "File not found\n",
      "Input command: put file.txt\n",
      "RX:  File updated successfully\n",
      "Input command: get file.txt\n",
      "RX:  File edited by the client\n",
      "Input command: unlock file.txt\n",
      "RX:  File file.txt unlocked succesfully by client ('127.0.0.1', 56572)\n",
      "Input command: put file.txt\n",
      "RX:  File needs to be locked first in order to be updated\n",
      "Input command: bye\n",
      "RX:  Server shutting down\n"
     ]
    }
   ],
   "source": [
    "import socket\n",
    "import sys\n",
    "\n",
    "# Create a TCP/IP socket\n",
    "\n",
    "client_id = \"1\"\n",
    "\n",
    "server_address = (\"localhost\", 6780)\n",
    "sock = socket.socket(family=socket.AF_INET, type=socket.SOCK_STREAM)\n",
    "sock.connect(server_address)\n",
    "\n",
    "\n",
    "while True:\n",
    "    msg = input(\"Input command: \")\n",
    "\n",
    "    command = msg.split()\n",
    "\n",
    "    if command[0] == \"get\":\n",
    "        sock.sendall(msg.encode())\n",
    "        data = sock.recv(1024).decode()\n",
    "        print(\"RX: \", data)\n",
    "        if data.split()[0]!= \"Error\": # Comprueba que el Server ha encontrado el archivo\n",
    "            file_contents = data\n",
    "            file_name = command[1]\n",
    "            f = open(file_name, \"w+\")\n",
    "            f.write(file_contents)\n",
    "            f.close()\n",
    "            \n",
    "    elif command[0] == \"put\": # Comprueba que existe el archivo en el cliente\n",
    "        file = command[1]\n",
    "        try:\n",
    "            with open(file) as f:\n",
    "                contents = f.read()\n",
    "                msg = \"put \" +file+ \" \"+ contents # Envía el comando put con el nombre del fichero y el nuevo contenido.\n",
    "                sock.sendall(msg.encode())\n",
    "                data = sock.recv(1024).decode()\n",
    "                print(\"RX: \", data)\n",
    "\n",
    "        except:\n",
    "            print(\"File not found\")\n",
    "\n",
    "    elif command[0] == \"bye\":\n",
    "        sock.sendall(msg.encode())\n",
    "        data = sock.recv(1024).decode()\n",
    "        print(\"RX: \", data)\n",
    "        sock.close() # Termina la conexión\n",
    "        break\n",
    "    elif command[0] == \"lock\" or command[0] == \"unlock\": # Envía los comandos lock y unlock con el nombre del fichero.\n",
    "        sock.sendall(msg.encode())\n",
    "        data = sock.recv(1024).decode()\n",
    "        print(\"RX: \", data)\n",
    "        \n",
    "        \n",
    "    else:\n",
    "        print(\"Invalid command\")\n",
    "\n"
   ]
  }
 ],
 "metadata": {
  "kernelspec": {
   "display_name": "Python 3 (ipykernel)",
   "language": "python",
   "name": "python3"
  },
  "language_info": {
   "codemirror_mode": {
    "name": "ipython",
    "version": 3
   },
   "file_extension": ".py",
   "mimetype": "text/x-python",
   "name": "python",
   "nbconvert_exporter": "python",
   "pygments_lexer": "ipython3",
   "version": "3.10.10"
  }
 },
 "nbformat": 4,
 "nbformat_minor": 5
}
