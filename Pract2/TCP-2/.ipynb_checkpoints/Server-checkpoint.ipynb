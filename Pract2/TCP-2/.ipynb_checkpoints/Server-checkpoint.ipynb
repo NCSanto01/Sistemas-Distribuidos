{
 "cells": [
  {
   "cell_type": "code",
   "execution_count": 1,
   "id": "ce549d51",
   "metadata": {},
   "outputs": [
    {
     "name": "stdout",
     "output_type": "stream",
     "text": [
      "RX ['Hello']\n",
      "RX ['get', 'file.txt']\n",
      "RX ['exit']\n"
     ]
    }
   ],
   "source": [
    "import socket\n",
    "import sys\n",
    "\n",
    "    \n",
    "msg = \"Hello, I'm the server\"\n",
    "\n",
    "server_address = (\"localhost\", 6780)\n",
    "sock = socket.socket(family=socket.AF_INET, type=socket.SOCK_STREAM)\n",
    "sock.bind(server_address)\n",
    "\n",
    "while True:\n",
    "    sock.listen(1)\n",
    "    connection, client_address = sock.accept()\n",
    "\n",
    "    command = connection.recv(1024).decode().split()\n",
    "\n",
    "    print(\"RX\", command)\n",
    "    \n",
    "    if command[0] == \"exit\":\n",
    "        connection.sendall(\"Server shutting down\".encode())\n",
    "        \n",
    "        connection.close()\n",
    "        break\n",
    "        \n",
    "    elif command[0]==\"get\":\n",
    "        file = command[1]\n",
    "        try:\n",
    "            with open(file) as f:\n",
    "                contents = f.read()\n",
    "                print(\"Contents: \", contents)\n",
    "                msg = contents\n",
    "                \n",
    "        except:\n",
    "            msg = \"File not found.\"\n",
    "    else:\n",
    "        msg = \"Invalid command\"\n",
    "    connection.sendall(msg.encode())\n",
    "\n"
   ]
  }
 ],
 "metadata": {
  "kernelspec": {
   "display_name": "Python 3 (ipykernel)",
   "language": "python",
   "name": "python3"
  },
  "language_info": {
   "codemirror_mode": {
    "name": "ipython",
    "version": 3
   },
   "file_extension": ".py",
   "mimetype": "text/x-python",
   "name": "python",
   "nbconvert_exporter": "python",
   "pygments_lexer": "ipython3",
   "version": "3.10.2"
  }
 },
 "nbformat": 4,
 "nbformat_minor": 5
}
