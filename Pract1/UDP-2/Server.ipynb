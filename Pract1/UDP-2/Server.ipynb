{
 "cells": [
  {
   "cell_type": "code",
   "execution_count": null,
   "id": "f621ed75",
   "metadata": {},
   "outputs": [
    {
     "name": "stdout",
     "output_type": "stream",
     "text": [
      "Server up and listening!\n",
      "\n",
      "Connection received.\n",
      "Message received:  Time request\n",
      "Number of characters of message 12\n",
      "Client Id:  3\n",
      "Client address:  ('127.0.0.1', 61666) \n",
      "\n",
      "\n",
      "Connection received.\n",
      "Message received:  Time request\n",
      "Number of characters of message 12\n",
      "Client Id:  3\n",
      "Client address:  ('127.0.0.1', 49263) \n",
      "\n"
     ]
    }
   ],
   "source": [
    "import socket\n",
    "import pickle\n",
    "from sys import argv\n",
    "import time\n",
    "from datetime import date\n",
    "import datetime\n",
    "\n",
    "\n",
    "server_ip = \"127.0.0.1\"\n",
    "port = \"6780\"\n",
    "\n",
    "# Check if port is a number\n",
    "while port.isnumeric() == False:\n",
    "    port = input(\"Port must be numeric: \")\n",
    "\n",
    "port = int(port)\n",
    "\n",
    "# If port is not a valid number: print(\"Invalid port\")\n",
    "try:\n",
    "    socket = socket.socket(family=socket.AF_INET, type=socket.SOCK_DGRAM)\n",
    "    socket.bind((server_ip, port))\n",
    "    print(\"Server up and listening!\")\n",
    "\n",
    "    while True:\n",
    "        bytes_rx = socket.recvfrom(1024)\n",
    "        message = pickle.loads(bytes_rx[0])[0]\n",
    "        client_id = pickle.loads(bytes_rx[0])[1]\n",
    "        address = bytes_rx[1]\n",
    "        print(\"\\nConnection received.\")\n",
    "        print(\"Message received: \", str(message))\n",
    "        print(\"Number of characters of message\", len(message))\n",
    "        print(\"Client Id: \", str(client_id))\n",
    "        print(\"Client address: \", str(address), \"\\n\")\n",
    "        if str(message) == \"exit\":\n",
    "            print(\"Received exit instruction.\")\n",
    "            print(\"Server shutting down\")\n",
    "            bytes_tx = pickle.dumps(\"Received exit instruction, shutting down server\", 0)\n",
    "            socket.sendto(bytes_tx, address)\n",
    "            break\n",
    "        else:\n",
    "            day = date.today()\n",
    "            now = datetime.datetime.now()\n",
    "            bytes_tx = pickle.dumps([day,now], 0)\n",
    "            socket.sendto(bytes_tx, address)\n",
    "except Exception as e:\n",
    "#     print(\"Invalid Port\")\n",
    "    print(e)"
   ]
  },
  {
   "cell_type": "markdown",
   "id": "d67da50a",
   "metadata": {},
   "source": [
    "### UDP 2.3"
   ]
  },
  {
   "cell_type": "code",
   "execution_count": null,
   "id": "0d876440",
   "metadata": {},
   "outputs": [
    {
     "name": "stdout",
     "output_type": "stream",
     "text": [
      "Server up and listening!\n"
     ]
    }
   ],
   "source": [
    "import socket\n",
    "import pickle\n",
    "from sys import argv\n",
    "import time\n",
    "from datetime import date\n",
    "import datetime\n",
    "\n",
    "\n",
    "server_ip = \"127.0.0.1\"\n",
    "port = \"6780\"\n",
    "\n",
    "# Check if port is a number\n",
    "while port.isnumeric() == False:\n",
    "    port = input(\"Port must be numeric: \")\n",
    "\n",
    "port = int(port)\n",
    "\n",
    "# If port is not a valid number: print(\"Invalid port\")\n",
    "try:\n",
    "    socket = socket.socket(family=socket.AF_INET, type=socket.SOCK_DGRAM)\n",
    "    socket.bind((server_ip, port))\n",
    "    print(\"Server up and listening!\")\n",
    "\n",
    "    while True:\n",
    "        bytes_rx = socket.recvfrom(1024)\n",
    "        message = pickle.loads(bytes_rx[0])[0]\n",
    "        client_id = pickle.loads(bytes_rx[0])[1]\n",
    "        address = bytes_rx[1]\n",
    "#         print(\"\\nConnection received.\")\n",
    "#         print(\"Message received: \", str(message))\n",
    "#         print(\"Number of characters of message\", len(message))\n",
    "#         print(\"Client Id: \", str(client_id))\n",
    "#         print(\"Client address: \", str(address), \"\\n\")\n",
    "        if str(message) == \"exit\":\n",
    "            print(\"Received exit instruction.\")\n",
    "            print(\"Server shutting down\")\n",
    "            bytes_tx = pickle.dumps(\"Received exit instruction, shutting down server\", 0)\n",
    "            socket.sendto(bytes_tx, address)\n",
    "            break\n",
    "        else:\n",
    "            day = date.today()\n",
    "            now = datetime.datetime.now()\n",
    "            bytes_tx = pickle.dumps([day,now], 0)\n",
    "            socket.sendto(bytes_tx, address)\n",
    "except Exception as e:\n",
    "#     print(\"Invalid Port\")\n",
    "    print(e)"
   ]
  },
  {
   "cell_type": "code",
   "execution_count": null,
   "id": "4a9729ec",
   "metadata": {},
   "outputs": [],
   "source": []
  }
 ],
 "metadata": {
  "kernelspec": {
   "display_name": "Python 3 (ipykernel)",
   "language": "python",
   "name": "python3"
  },
  "language_info": {
   "codemirror_mode": {
    "name": "ipython",
    "version": 3
   },
   "file_extension": ".py",
   "mimetype": "text/x-python",
   "name": "python",
   "nbconvert_exporter": "python",
   "pygments_lexer": "ipython3",
   "version": "3.10.2"
  }
 },
 "nbformat": 4,
 "nbformat_minor": 5
}
