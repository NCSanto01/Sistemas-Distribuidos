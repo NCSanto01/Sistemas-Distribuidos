{
 "cells": [
  {
   "cell_type": "code",
   "execution_count": 1,
   "id": "c41ee9d2",
   "metadata": {},
   "outputs": [
    {
     "name": "stdout",
     "output_type": "stream",
     "text": [
      "Input message: Hello, I'm Client 2\n",
      "RX:  (b\"Hello, I'm the server\", ('127.0.0.1', 6780))\n"
     ]
    }
   ],
   "source": [
    "import socket\n",
    "\n",
    "msg = input(\"Input message: \")\n",
    "bytes_tx = str.encode(msg)\n",
    "\n",
    "server_address = (\"127.0.0.1\", 6780)\n",
    "socket = socket.socket(family=socket.AF_INET, type=socket.SOCK_DGRAM)\n",
    "socket.sendto(bytes_tx, server_address)\n",
    "\n",
    "bytes_rx = socket.recvfrom(1024)\n",
    "print(\"RX: \", bytes_rx)\n",
    "socket.close()"
   ]
  },
  {
   "cell_type": "code",
   "execution_count": null,
   "id": "a8964116",
   "metadata": {},
   "outputs": [],
   "source": []
  }
 ],
 "metadata": {
  "kernelspec": {
   "display_name": "Python 3 (ipykernel)",
   "language": "python",
   "name": "python3"
  },
  "language_info": {
   "codemirror_mode": {
    "name": "ipython",
    "version": 3
   },
   "file_extension": ".py",
   "mimetype": "text/x-python",
   "name": "python",
   "nbconvert_exporter": "python",
   "pygments_lexer": "ipython3",
   "version": "3.10.2"
  }
 },
 "nbformat": 4,
 "nbformat_minor": 5
}
