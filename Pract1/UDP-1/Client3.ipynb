{
 "cells": [
  {
   "cell_type": "markdown",
   "id": "f8b32a71",
   "metadata": {},
   "source": [
    "### UDP 1.2"
   ]
  },
  {
   "cell_type": "code",
   "execution_count": 2,
   "id": "174fcaa8",
   "metadata": {},
   "outputs": [
    {
     "name": "stdout",
     "output_type": "stream",
     "text": [
      "Enter server IP: 127.0.0.1\n",
      "Enter server port: 6780\n",
      "RX:  (b\"Hello, I'm the server\", ('127.0.0.1', 6780))\n"
     ]
    }
   ],
   "source": [
    "import socket\n",
    "\n",
    "msg = \"Hello I'm client 3\"\n",
    "bytes_tx = str.encode(msg)\n",
    "\n",
    "ip = input(\"Enter server IP: \")\n",
    "port = input(\"Enter server port: \")\n",
    "# Check if port is a number\n",
    "while port.isnumeric() == False:\n",
    "    port = input(\"Port must be numeric: \")\n",
    "\n",
    "port = int(port)\n",
    "\n",
    "server_address = (ip, port)\n",
    "\n",
    "try:\n",
    "    \n",
    "    socket = socket.socket(family=socket.AF_INET, type=socket.SOCK_DGRAM)\n",
    "    socket.sendto(bytes_tx, server_address)\n",
    "\n",
    "    bytes_rx = socket.recvfrom(1024)\n",
    "    print(\"RX: \", bytes_rx)\n",
    "    socket.close()\n",
    "    \n",
    "except:\n",
    "    \n",
    "    print(\"Server not running on that address\")"
   ]
  },
  {
   "cell_type": "markdown",
   "id": "68486a4e",
   "metadata": {},
   "source": [
    "### UDP 1.3"
   ]
  },
  {
   "cell_type": "code",
   "execution_count": 3,
   "id": "3d9361d0",
   "metadata": {},
   "outputs": [
    {
     "name": "stdout",
     "output_type": "stream",
     "text": [
      "Input message: Hello, I'm the client 3\n",
      "Enter server IP: 127.0.0.1\n",
      "Enter server port: 6780\n",
      "RX:  (b'23 characters received', ('127.0.0.1', 6780))\n"
     ]
    }
   ],
   "source": [
    "import socket\n",
    "import pickle\n",
    "\n",
    "client_id = 3\n",
    "\n",
    "msg = input(\"Input message: \")\n",
    "msg_encoded = pickle.dumps(msg, 0)\n",
    "\n",
    "id_encoded = pickle.dumps(str(client_id), 0)\n",
    "\n",
    "array = [msg, str(client_id)]\n",
    "array_encoded = pickle.dumps(array, 0)\n",
    "\n",
    "# bytes_tx = pickle.dumps(msg_encoded, 0)\n",
    "\n",
    "ip = input(\"Enter server IP: \")\n",
    "port = input(\"Enter server port: \")\n",
    "# Check if port is a number\n",
    "while port.isnumeric() == False:\n",
    "    port = input(\"Port must be numeric: \")\n",
    "\n",
    "port = int(port)\n",
    "\n",
    "server_address = (ip, port)\n",
    "\n",
    "try:\n",
    "    \n",
    "    socket = socket.socket(family=socket.AF_INET, type=socket.SOCK_DGRAM)\n",
    "    socket.sendto(array_encoded, server_address)\n",
    "\n",
    "    bytes_rx = socket.recvfrom(1024)\n",
    "    print(\"RX: \", bytes_rx)\n",
    "    socket.close()\n",
    "    \n",
    "except:\n",
    "    \n",
    "    print(\"Server not running on that address\")"
   ]
  },
  {
   "cell_type": "markdown",
   "id": "9649ba06",
   "metadata": {},
   "source": [
    "### UDP 1.4"
   ]
  },
  {
   "cell_type": "code",
   "execution_count": 4,
   "id": "c53d8943",
   "metadata": {},
   "outputs": [
    {
     "name": "stdout",
     "output_type": "stream",
     "text": [
      "Input message: Hello\n",
      "Enter server IP: 127.0.0.1\n",
      "Enter server port: 6780\n",
      "Server not running on that address\n"
     ]
    }
   ],
   "source": [
    "import socket\n",
    "import pickle\n",
    "\n",
    "client_id = 3\n",
    "\n",
    "msg = input(\"Input message: \")\n",
    "msg_encoded = pickle.dumps(msg, 0)\n",
    "\n",
    "id_encoded = pickle.dumps(str(client_id), 0)\n",
    "\n",
    "array = [msg, str(client_id)]\n",
    "array_encoded = pickle.dumps(array, 0)\n",
    "\n",
    "# bytes_tx = pickle.dumps(msg_encoded, 0)\n",
    "\n",
    "ip = input(\"Enter server IP: \")\n",
    "port = input(\"Enter server port: \")\n",
    "# Check if port is a number\n",
    "while port.isnumeric() == False:\n",
    "    port = input(\"Port must be numeric: \")\n",
    "\n",
    "port = int(port)\n",
    "\n",
    "server_address = (ip, port)\n",
    "\n",
    "try:\n",
    "    \n",
    "    socket = socket.socket(family=socket.AF_INET, type=socket.SOCK_DGRAM)\n",
    "    socket.sendto(array_encoded, server_address)\n",
    "\n",
    "    bytes_rx = socket.recvfrom(1024)\n",
    "    print(\"RX: \", bytes_rx)\n",
    "    socket.close()\n",
    "    \n",
    "except:\n",
    "    \n",
    "    print(\"Server not running on that address\")"
   ]
  }
 ],
 "metadata": {
  "kernelspec": {
   "display_name": "Python 3 (ipykernel)",
   "language": "python",
   "name": "python3"
  },
  "language_info": {
   "codemirror_mode": {
    "name": "ipython",
    "version": 3
   },
   "file_extension": ".py",
   "mimetype": "text/x-python",
   "name": "python",
   "nbconvert_exporter": "python",
   "pygments_lexer": "ipython3",
   "version": "3.10.2"
  }
 },
 "nbformat": 4,
 "nbformat_minor": 5
}
