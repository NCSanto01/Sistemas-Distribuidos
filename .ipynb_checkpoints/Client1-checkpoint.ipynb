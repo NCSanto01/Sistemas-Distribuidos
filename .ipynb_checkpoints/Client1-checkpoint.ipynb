{
 "cells": [
  {
   "cell_type": "code",
   "execution_count": null,
   "id": "f7afcd88",
   "metadata": {},
   "outputs": [],
   "source": [
    "import socket\n",
    "\n",
    "msg = input(\"Input message: \")\n",
    "bytes_tx = str.encode(msg)\n",
    "\n",
    "server_address = (\"192.168.208.183\", 6780)\n",
    "socket = socket.socket(family=socket.AF_INET, type=socket.SOCK_DGRAM)\n",
    "socket.sendto(bytes_tx, server_address)\n",
    "\n",
    "bytes_rx = socket.recvfrom(1024)\n",
    "print(\"RX: \", bytes_rx)\n",
    "socket.close()"
   ]
  },
  {
   "cell_type": "code",
   "execution_count": 7,
   "id": "a92fbf0a",
   "metadata": {},
   "outputs": [
    {
     "ename": "AttributeError",
     "evalue": "'socket' object has no attribute 'socket'",
     "output_type": "error",
     "traceback": [
      "\u001b[1;31m---------------------------------------------------------------------------\u001b[0m",
      "\u001b[1;31mAttributeError\u001b[0m                            Traceback (most recent call last)",
      "Cell \u001b[1;32mIn[7], line 5\u001b[0m\n\u001b[0;32m      2\u001b[0m bytes_tx \u001b[38;5;241m=\u001b[39m \u001b[38;5;28mstr\u001b[39m\u001b[38;5;241m.\u001b[39mencode(msg)\n\u001b[0;32m      4\u001b[0m \u001b[38;5;66;03m# server_address = (\"127.0.0.1\", 6780)\u001b[39;00m\n\u001b[1;32m----> 5\u001b[0m socket \u001b[38;5;241m=\u001b[39m \u001b[43msocket\u001b[49m\u001b[38;5;241;43m.\u001b[39;49m\u001b[43msocket\u001b[49m(family\u001b[38;5;241m=\u001b[39msocket\u001b[38;5;241m.\u001b[39mAF_INET, \u001b[38;5;28mtype\u001b[39m\u001b[38;5;241m=\u001b[39msocket\u001b[38;5;241m.\u001b[39mSOCK_DGRAM)\n\u001b[0;32m      6\u001b[0m socket\u001b[38;5;241m.\u001b[39msendto(bytes_tx, server_address)\n\u001b[0;32m      8\u001b[0m bytes_rx \u001b[38;5;241m=\u001b[39m socket\u001b[38;5;241m.\u001b[39mrecvfrom(\u001b[38;5;241m1024\u001b[39m)\n",
      "\u001b[1;31mAttributeError\u001b[0m: 'socket' object has no attribute 'socket'"
     ]
    }
   ],
   "source": [
    "msg = \"close\"\n",
    "bytes_tx = str.encode(msg)\n",
    "\n",
    "# server_address = (\"127.0.0.1\", 6780)\n",
    "socket = socket.socket(family=socket.AF_INET, type=socket.SOCK_DGRAM)\n",
    "socket.sendto(bytes_tx, server_address)\n",
    "\n",
    "bytes_rx = socket.recvfrom(1024)\n",
    "print(\"RX: \", bytes_rx)\n",
    "socket.close()"
   ]
  },
  {
   "cell_type": "code",
   "execution_count": null,
   "id": "8c38d01a",
   "metadata": {},
   "outputs": [],
   "source": []
  }
 ],
 "metadata": {
  "kernelspec": {
   "display_name": "Python 3 (ipykernel)",
   "language": "python",
   "name": "python3"
  },
  "language_info": {
   "codemirror_mode": {
    "name": "ipython",
    "version": 3
   },
   "file_extension": ".py",
   "mimetype": "text/x-python",
   "name": "python",
   "nbconvert_exporter": "python",
   "pygments_lexer": "ipython3",
   "version": "3.10.2"
  }
 },
 "nbformat": 4,
 "nbformat_minor": 5
}
