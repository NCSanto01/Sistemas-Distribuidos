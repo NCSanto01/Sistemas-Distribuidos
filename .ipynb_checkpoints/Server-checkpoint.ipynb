{
 "cells": [
  {
   "cell_type": "markdown",
   "id": "3fc2dd12",
   "metadata": {},
   "source": [
    "### UDP 1.1"
   ]
  },
  {
   "cell_type": "code",
   "execution_count": null,
   "id": "eecb272a",
   "metadata": {},
   "outputs": [],
   "source": [
    "import socket\n",
    "\n",
    "msg = \"Hello Fobber\"\n",
    "bytes_tx = str.encode(msg)\n",
    "\n",
    "socket = socket.socket(family=socket.AF_INET, type=socket.SOCK_DGRAM)\n",
    "socket.bind((\"192.168.208.196\", 6780))\n",
    "\n",
    "while True:\n",
    "    bytes_rx = socket.recvfrom(1024)\n",
    "    message = bytes_rx[0]\n",
    "    address = bytes_rx[1]\n",
    "    print(str(message))\n",
    "    socket.sendto(bytes_tx, address)\n",
    "    if str(message) == \"b'close'\":\n",
    "        socket.close()\n",
    "        break\n"
   ]
  },
  {
   "cell_type": "markdown",
   "id": "56904928",
   "metadata": {},
   "source": [
    "### UDP 1.2"
   ]
  },
  {
   "cell_type": "code",
   "execution_count": 1,
   "id": "23d81a32",
   "metadata": {},
   "outputs": [
    {
     "name": "stdout",
     "output_type": "stream",
     "text": [
      "Connection port: 6780\n",
      "Server up and listening!\n",
      "\n",
      "Connection received.\n",
      "Message received:  b'VHello3\\np0\\n.'\n",
      "Client address:  ('127.0.0.1', 57383)\n",
      "\n",
      "Connection received.\n",
      "Message received:  b'close'\n",
      "Client address:  ('127.0.0.1', 54382)\n",
      "Received close instruction.\n",
      "Server shutting down\n"
     ]
    }
   ],
   "source": [
    "import socket\n",
    "\n",
    "msg = \"Hello Fobber\"\n",
    "bytes_tx = str.encode(msg)\n",
    "\n",
    "port = input(\"Connection port: \")\n",
    "\n",
    "# Check if port is a number\n",
    "while port.isnumeric() == False:\n",
    "    port = input(\"Port must be numeric: \")\n",
    "\n",
    "port = int(port)\n",
    "\n",
    "# If port is not a valid number: print(\"Invalid port\")\n",
    "try:\n",
    "    socket = socket.socket(family=socket.AF_INET, type=socket.SOCK_DGRAM)\n",
    "    socket.bind((\"127.0.0.1\", port))\n",
    "    print(\"Server up and listening!\")\n",
    "\n",
    "    while True:\n",
    "        bytes_rx = socket.recvfrom(1024)\n",
    "        message = bytes_rx[0]\n",
    "        address = bytes_rx[1]\n",
    "        print(\"\\nConnection received.\")\n",
    "        print(\"Message received: \", str(message))\n",
    "        print(\"Client address: \", str(address))\n",
    "        socket.sendto(bytes_tx, address)\n",
    "        if str(message) == \"b'close'\":\n",
    "            print(\"Received close instruction.\")\n",
    "            print(\"Server shutting down\")\n",
    "            socket.close()\n",
    "            break\n",
    "except:\n",
    "    print(\"Invalid Port\")"
   ]
  },
  {
   "cell_type": "markdown",
   "id": "dceebf74",
   "metadata": {},
   "source": [
    "### UDP 1.3"
   ]
  },
  {
   "cell_type": "code",
   "execution_count": 1,
   "id": "bef1660d",
   "metadata": {},
   "outputs": [
    {
     "name": "stdout",
     "output_type": "stream",
     "text": [
      "Connection port: 6780\n",
      "Server up and listening!\n",
      "\n",
      "Connection received.\n",
      "Message received:  Hello \n",
      "Number of characters of message 6\n",
      "Client Id:  3\n",
      "Client address:  ('127.0.0.1', 52198)\n",
      "\n",
      "Connection received.\n",
      "Message received:  close\n",
      "Number of characters of message 5\n",
      "Client Id:  3\n",
      "Client address:  ('127.0.0.1', 56711)\n",
      "Received close instruction.\n",
      "Server shutting down\n"
     ]
    }
   ],
   "source": [
    "import socket\n",
    "import pickle\n",
    "\n",
    "msg = \"Hello Fobber\"\n",
    "bytes_tx = str.encode(msg)\n",
    "\n",
    "port = input(\"Connection port: \")\n",
    "\n",
    "# Check if port is a number\n",
    "while port.isnumeric() == False:\n",
    "    port = input(\"Port must be numeric: \")\n",
    "\n",
    "port = int(port)\n",
    "\n",
    "# If port is not a valid number: print(\"Invalid port\")\n",
    "try:\n",
    "    socket = socket.socket(family=socket.AF_INET, type=socket.SOCK_DGRAM)\n",
    "    socket.bind((\"127.0.0.1\", port))\n",
    "    print(\"Server up and listening!\")\n",
    "\n",
    "    while True:\n",
    "        bytes_rx = socket.recvfrom(1024)\n",
    "        message = pickle.loads(bytes_rx[0])[0]\n",
    "        client_id = pickle.loads(bytes_rx[0])[1]\n",
    "        address = bytes_rx[1]\n",
    "        print(\"\\nConnection received.\")\n",
    "        print(\"Message received: \", str(message))\n",
    "        print(\"Number of characters of message\", len(message))\n",
    "        print(\"Client Id: \", str(client_id))\n",
    "        print(\"Client address: \", str(address))\n",
    "        bytes_tx = str.encode(str(len(message)) + \" characters received\")\n",
    "        socket.sendto(bytes_tx, address)\n",
    "        if str(message) == \"close\":\n",
    "            print(\"Received close instruction.\")\n",
    "            print(\"Server shutting down\")\n",
    "            socket.close()\n",
    "            break\n",
    "except:\n",
    "    print(\"Invalid Port\")"
   ]
  },
  {
   "cell_type": "code",
   "execution_count": null,
   "id": "93cbe11b",
   "metadata": {},
   "outputs": [],
   "source": []
  }
 ],
 "metadata": {
  "kernelspec": {
   "display_name": "Python 3 (ipykernel)",
   "language": "python",
   "name": "python3"
  },
  "language_info": {
   "codemirror_mode": {
    "name": "ipython",
    "version": 3
   },
   "file_extension": ".py",
   "mimetype": "text/x-python",
   "name": "python",
   "nbconvert_exporter": "python",
   "pygments_lexer": "ipython3",
   "version": "3.10.2"
  }
 },
 "nbformat": 4,
 "nbformat_minor": 5
}
