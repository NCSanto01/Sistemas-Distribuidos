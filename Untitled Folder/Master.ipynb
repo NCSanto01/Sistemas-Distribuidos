{
 "cells": [
  {
   "cell_type": "markdown",
   "id": "69fa480e",
   "metadata": {},
   "source": [
    "### INTEGRACIÓN"
   ]
  },
  {
   "cell_type": "code",
   "execution_count": 3,
   "id": "b699a7e2",
   "metadata": {},
   "outputs": [
    {
     "name": "stdout",
     "output_type": "stream",
     "text": [
      "Last block of chain: c29e1bd4aeb7c4504c1b3d993bc17a13\n",
      "Desired number of workers: 1\n",
      "RX:  Worker 0 found Nonce:29830033\n"
     ]
    }
   ],
   "source": [
    "import socket\n",
    "import sys\n",
    "\n",
    "block = input(\"Last block of chain: \")\n",
    "workers = input(\"Desired number of workers: \")\n",
    "\n",
    "\n",
    "# Create a TCP/IP socket\n",
    "connection = False\n",
    "\n",
    "try:\n",
    "    server_address = (\"localhost\", 6780)\n",
    "    sock = socket.socket(family=socket.AF_INET, type=socket.SOCK_STREAM)\n",
    "    sock.connect(server_address)\n",
    "    sock.sendall((block + \" \" + str(workers)).encode())\n",
    "    connection = True\n",
    "\n",
    "except:\n",
    "    print(\"Error connecting to the server\")\n",
    "\n",
    "stop = False\n",
    "if connection == True:\n",
    "    while stop == False:\n",
    "        data = sock.recv(1024).decode()\n",
    "        print(\"RX: \", data)\n",
    "        if \"found\" in data:\n",
    "            stop = True\n",
    "\n"
   ]
  }
 ],
 "metadata": {
  "kernelspec": {
   "display_name": "Python 3 (ipykernel)",
   "language": "python",
   "name": "python3"
  },
  "language_info": {
   "codemirror_mode": {
    "name": "ipython",
    "version": 3
   },
   "file_extension": ".py",
   "mimetype": "text/x-python",
   "name": "python",
   "nbconvert_exporter": "python",
   "pygments_lexer": "ipython3",
   "version": "3.10.2"
  }
 },
 "nbformat": 4,
 "nbformat_minor": 5
}
