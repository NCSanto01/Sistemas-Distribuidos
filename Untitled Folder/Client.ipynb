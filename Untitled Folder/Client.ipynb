{
 "cells": [
  {
   "cell_type": "markdown",
   "id": "879c1d15",
   "metadata": {},
   "source": [
    "### MULTITHREADING-1"
   ]
  },
  {
   "cell_type": "code",
   "execution_count": null,
   "id": "0ad8977b",
   "metadata": {},
   "outputs": [
    {
     "name": "stdout",
     "output_type": "stream",
     "text": [
      "Input server address: 127\n",
      "Input server port: 67\n",
      "Input message: ahi\n"
     ]
    }
   ],
   "source": [
    "import socket\n",
    "import sys\n",
    "import threading\n",
    "import time\n",
    "\n",
    "def worker_routine(thread_name, msg):\n",
    "    try:\n",
    "        sock = socket.socket(family=socket.AF_INET, type=socket.SOCK_STREAM)\n",
    "        sock.connect(server_address)\n",
    "    except:\n",
    "        print(\"Server not running on that address\")\n",
    "\n",
    "    print(\"\\nThread \"+ thread_name + \" started\\n\")\n",
    "    sock.sendall(msg.encode())\n",
    "    data = sock.recv(1024).decode()\n",
    "    print(\"\\nRECEIVED\", data)\n",
    "    total_msg_rx.append(data)\n",
    "    sock.close()\n",
    "    if msg == \"exit\":\n",
    "        print(\"\\nMessages sent: \" + str(total_msg))\n",
    "        print(\"\\nMessages received: \"+str(total_msg_rx) + \"\\n\")\n",
    "\n",
    "        print(\"END\")\n",
    "\n",
    "    print(\"\\nThread \"+ thread_name + \" ended\\n\")\n",
    "\n",
    "def start_thread(thread_name, msg):\n",
    "    reader = threading.Thread(target=worker_routine, args=(thread_name, msg))\n",
    "\n",
    "    reader.start()\n",
    "    \n",
    "    \n",
    "\n",
    "# Create a TCP/IP socket\n",
    "\n",
    "address = input(\"Input server address: \")\n",
    "port = input(\"Input server port: \")\n",
    "\n",
    "# Check if port is a number\n",
    "while port.isnumeric() == False:\n",
    "    port = input(\"Port must be numeric: \")\n",
    "\n",
    "port = int(port)\n",
    "\n",
    "server_address = (address, 6780)\n",
    "\n",
    "\n",
    "total_msg = []\n",
    "total_msg_rx = []\n",
    "\n",
    "iteration = 0\n",
    "msg = \"\"\n",
    "while msg != \"exit\":\n",
    "    msg = input(\"Input message: \")\n",
    "    total_msg.append(msg)\n",
    "    \n",
    "for msg in total_msg:\n",
    "\n",
    "#     time.sleep(1)\n",
    "    start_thread(str(iteration),msg)\n",
    "    iteration = iteration + 1\n",
    "    \n"
   ]
  },
  {
   "cell_type": "code",
   "execution_count": 23,
   "id": "3186b343",
   "metadata": {},
   "outputs": [],
   "source": []
  },
  {
   "cell_type": "code",
   "execution_count": null,
   "id": "886e8259",
   "metadata": {},
   "outputs": [],
   "source": []
  }
 ],
 "metadata": {
  "kernelspec": {
   "display_name": "Python 3 (ipykernel)",
   "language": "python",
   "name": "python3"
  },
  "language_info": {
   "codemirror_mode": {
    "name": "ipython",
    "version": 3
   },
   "file_extension": ".py",
   "mimetype": "text/x-python",
   "name": "python",
   "nbconvert_exporter": "python",
   "pygments_lexer": "ipython3",
   "version": "3.10.10"
  },
  "vscode": {
   "interpreter": {
    "hash": "f8ca15d83b6fb72cece3edcf60f6aa40d2cbdeb5c60e0f188ff8c7c65828fd00"
   }
  }
 },
 "nbformat": 4,
 "nbformat_minor": 5
}
