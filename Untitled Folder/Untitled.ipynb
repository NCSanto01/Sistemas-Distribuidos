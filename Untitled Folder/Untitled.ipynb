{
 "cells": [
  {
   "cell_type": "markdown",
   "id": "879c1d15",
   "metadata": {},
   "source": [
    "### MULTITHREADING-1"
   ]
  },
  {
   "cell_type": "code",
   "execution_count": 2,
   "id": "0ad8977b",
   "metadata": {},
   "outputs": [
    {
     "name": "stdout",
     "output_type": "stream",
     "text": [
      "Input server address: 127.0.0.1\n",
      "Input server port: 6780\n",
      "Input message: Hello\n",
      "Input message: this\n",
      "Input message: is\n",
      "Input message: a\n",
      "Input message: message\n",
      "Input message: exit\n",
      "MESSAGE Hello\n",
      "MESSAGE this\n",
      "Thread 0 started\n",
      "RX:  Hello 0\n",
      "MESSAGE is\n",
      "Thread 1 started\n",
      "Thread 0 ended\n",
      "MESSAGE a\n",
      "MESSAGE message\n"
     ]
    },
    {
     "name": "stderr",
     "output_type": "stream",
     "text": [
      "Exception in thread Thread-7 (worker_routine):\n",
      "Traceback (most recent call last):\n",
      "  File \"C:\\Python310\\lib\\threading.py\", line 1009, in _bootstrap_inner\n",
      "    self.run()\n",
      "  File \"C:\\Python310\\lib\\threading.py\", line 946, in run\n",
      "    self._target(*self._args, **self._kwargs)\n",
      "  File \"C:\\Users\\corsi\\AppData\\Local\\Temp\\ipykernel_119876\\3985560043.py\", line 14, in worker_routine\n",
      "OSError: [WinError 10057] No se permitió una solicitud para enviar o recibir datos ya que el socket no está conectado y no se ha proporcionado ninguna dirección, al realizar el envío en un socket de datagramas por medio de una llamada sendto\n"
     ]
    },
    {
     "name": "stdout",
     "output_type": "stream",
     "text": [
      "MESSAGE exit\n",
      "Server not running on that address\n",
      "Thread 2 started\n",
      "\n",
      "Message sent: ['Hello', 'this', 'is', 'a', 'message', 'exit']\n",
      "\n",
      "Message received: ['Hello 0']\n"
     ]
    },
    {
     "name": "stderr",
     "output_type": "stream",
     "text": [
      "Exception in thread Thread-8 (worker_routine):\n",
      "Traceback (most recent call last):\n",
      "  File \"C:\\Python310\\lib\\threading.py\", line 1009, in _bootstrap_inner\n",
      "    self.run()\n",
      "  File \"C:\\Python310\\lib\\threading.py\", line 946, in run\n",
      "    self._target(*self._args, **self._kwargs)\n",
      "  File \"C:\\Users\\corsi\\AppData\\Local\\Temp\\ipykernel_119876\\3985560043.py\", line 14, in worker_routine\n",
      "OSError: [WinError 10057] No se permitió una solicitud para enviar o recibir datos ya que el socket no está conectado y no se ha proporcionado ninguna dirección, al realizar el envío en un socket de datagramas por medio de una llamada sendto\n"
     ]
    },
    {
     "name": "stdout",
     "output_type": "stream",
     "text": [
      "Server not running on that address\n",
      "Thread 3 started\n"
     ]
    },
    {
     "name": "stderr",
     "output_type": "stream",
     "text": [
      "Exception in thread Thread-9 (worker_routine):\n",
      "Traceback (most recent call last):\n",
      "  File \"C:\\Python310\\lib\\threading.py\", line 1009, in _bootstrap_inner\n",
      "    self.run()\n",
      "  File \"C:\\Python310\\lib\\threading.py\", line 946, in run\n",
      "    self._target(*self._args, **self._kwargs)\n",
      "  File \"C:\\Users\\corsi\\AppData\\Local\\Temp\\ipykernel_119876\\3985560043.py\", line 14, in worker_routine\n",
      "OSError: [WinError 10057] No se permitió una solicitud para enviar o recibir datos ya que el socket no está conectado y no se ha proporcionado ninguna dirección, al realizar el envío en un socket de datagramas por medio de una llamada sendto\n"
     ]
    },
    {
     "name": "stdout",
     "output_type": "stream",
     "text": [
      "Server not running on that address\n",
      "Thread 4 started\n"
     ]
    },
    {
     "name": "stderr",
     "output_type": "stream",
     "text": [
      "Exception in thread Thread-10 (worker_routine):\n",
      "Traceback (most recent call last):\n",
      "  File \"C:\\Python310\\lib\\threading.py\", line 1009, in _bootstrap_inner\n",
      "    self.run()\n",
      "  File \"C:\\Python310\\lib\\threading.py\", line 946, in run\n",
      "    self._target(*self._args, **self._kwargs)\n",
      "  File \"C:\\Users\\corsi\\AppData\\Local\\Temp\\ipykernel_119876\\3985560043.py\", line 14, in worker_routine\n",
      "OSError: [WinError 10057] No se permitió una solicitud para enviar o recibir datos ya que el socket no está conectado y no se ha proporcionado ninguna dirección, al realizar el envío en un socket de datagramas por medio de una llamada sendto\n"
     ]
    },
    {
     "name": "stdout",
     "output_type": "stream",
     "text": [
      "Server not running on that address\n",
      "Thread 5 started\n"
     ]
    },
    {
     "name": "stderr",
     "output_type": "stream",
     "text": [
      "Exception in thread Thread-6 (worker_routine):\n",
      "Traceback (most recent call last):\n",
      "  File \"C:\\Python310\\lib\\threading.py\", line 1009, in _bootstrap_inner\n",
      "    self.run()\n",
      "  File \"C:\\Python310\\lib\\threading.py\", line 946, in run\n",
      "    self._target(*self._args, **self._kwargs)\n",
      "  File \"C:\\Users\\corsi\\AppData\\Local\\Temp\\ipykernel_119876\\3985560043.py\", line 15, in worker_routine\n",
      "ConnectionResetError: [WinError 10054] Se ha forzado la interrupción de una conexión existente por el host remoto\n"
     ]
    }
   ],
   "source": [
    "import socket\n",
    "import sys\n",
    "import threading\n",
    "import time\n",
    "\n",
    "stop = False\n",
    "# Create a TCP/IP socket\n",
    "\n",
    "address = input(\"Input server address: \")\n",
    "port = input(\"Input server port: \")\n",
    "# Check if port is a number\n",
    "while port.isnumeric() == False:\n",
    "    port = input(\"Port must be numeric: \")\n",
    "\n",
    "port = int(port)\n",
    "# try:\n",
    "#     server_address = (address, 6780)\n",
    "#     sock = socket.socket(family=socket.AF_INET, type=socket.SOCK_STREAM)\n",
    "#     sock.connect(server_address)\n",
    "    \n",
    "# except:\n",
    "#     print(\"Server not running on that address\")\n",
    "#     stop = True\n",
    "\n",
    "total_msg = []\n",
    "iteration = 0\n",
    "msg = \"\"\n",
    "while msg != \"exit\":\n",
    "    msg = input(\"Input message: \")\n",
    "    total_msg.append(msg)\n",
    "    \n",
    "for msg in total_msg:\n",
    "#     sock.sendall(msg.encode())\n",
    "#     data = sock.recv(1024).decode()\n",
    "#     print(\"RX: \", data)\n",
    "    print(\"MESSAGE\", msg)\n",
    "    time.sleep(1)\n",
    "    start_thread(str(iteration),msg)\n",
    "    iteration = iteration + 1\n",
    "    \n",
    "print(\"\\nMessage sent: \" + str(total_msg))\n",
    "print(\"\\nMessage received: \"+str(total_msg_rx))\n"
   ]
  },
  {
   "cell_type": "code",
   "execution_count": 1,
   "id": "3186b343",
   "metadata": {},
   "outputs": [],
   "source": [
    "total_msg_rx = []\n",
    "def worker_routine(thread_name, msg):\n",
    "    \n",
    "    try:\n",
    "        server_address = (address, 6780)\n",
    "        sock = socket.socket(family=socket.AF_INET, type=socket.SOCK_STREAM)\n",
    "        sock.connect(server_address)\n",
    "    \n",
    "    except:\n",
    "        print(\"Server not running on that address\")\n",
    "        stop = True\n",
    "    \n",
    "    print(\"Thread \"+ thread_name + \" started\")\n",
    "    sock.sendall(msg.encode())\n",
    "    data = sock.recv(1024).decode()\n",
    "    print(\"RX: \", data)\n",
    "    total_msg_rx.append(data)\n",
    "    time.sleep(1)\n",
    "    sock.close()\n",
    "    if msg == \"exit\":\n",
    "        sock.close()\n",
    "        print(\"END\")\n",
    "\n",
    "#     i = 0\n",
    "#     while i<5:\n",
    "#         print(thread_name)\n",
    "#         i = i + 1\n",
    "#         time.sleep(1)\n",
    "    print(\"Thread \"+ thread_name + \" ended\")\n",
    "\n",
    "def start_thread(thread_name, msg):\n",
    "    reader = threading.Thread(target=worker_routine, args=(thread_name, msg))\n",
    "\n",
    "    reader.start()"
   ]
  },
  {
   "cell_type": "code",
   "execution_count": null,
   "id": "886e8259",
   "metadata": {},
   "outputs": [],
   "source": []
  }
 ],
 "metadata": {
  "kernelspec": {
   "display_name": "Python 3 (ipykernel)",
   "language": "python",
   "name": "python3"
  },
  "language_info": {
   "codemirror_mode": {
    "name": "ipython",
    "version": 3
   },
   "file_extension": ".py",
   "mimetype": "text/x-python",
   "name": "python",
   "nbconvert_exporter": "python",
   "pygments_lexer": "ipython3",
   "version": "3.10.2"
  }
 },
 "nbformat": 4,
 "nbformat_minor": 5
}
