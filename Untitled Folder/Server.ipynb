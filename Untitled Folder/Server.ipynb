{
 "cells": [
  {
   "cell_type": "markdown",
   "id": "c1cc98c1",
   "metadata": {},
   "source": [
    "### MULTITHREADING-1"
   ]
  },
  {
   "cell_type": "code",
   "execution_count": 2,
   "id": "0987ee07",
   "metadata": {},
   "outputs": [
    {
     "name": "stdout",
     "output_type": "stream",
     "text": [
      "Input server port: 6780\n",
      "name 'connection' is not defined\n"
     ]
    }
   ],
   "source": [
    "import socket\n",
    "import sys\n",
    "import threading\n",
    "import time\n",
    "\n",
    "    \n",
    "msg = \"Hello, I'm the server\"\n",
    "\n",
    "port = input(\"Input server port: \")\n",
    "# Check if port is a number\n",
    "while port.isnumeric() == False:\n",
    "    port = input(\"Port must be numeric: \")\n",
    "\n",
    "port = int(port)\n",
    "\n",
    "# try:\n",
    "#     server_address = (\"localhost\", port)\n",
    "#     sock = socket.socket(family=socket.AF_INET, type=socket.SOCK_STREAM)\n",
    "#     sock.bind(server_address)\n",
    "#     sock.listen(1)\n",
    "#     connection, client_address = sock.accept()\n",
    "# except:\n",
    "#     print(\"Invalid port\")\n",
    "\n",
    "iteration = 0\n",
    "try:\n",
    "    while True:\n",
    "    \n",
    "#         msg_r = connection.recv(1024).decode()\n",
    "        start_thread(str(iteration), msg_r)\n",
    "\n",
    "        iteration = iteration + 1\n",
    "\n",
    "        if msg_r == \"bye\":\n",
    "            connection.sendall(\"Server shutting down\".encode())\n",
    "\n",
    "            connection.close()\n",
    "            break\n",
    "            \n",
    "except Exception as e:\n",
    "    print(e)\n",
    "\n"
   ]
  },
  {
   "cell_type": "code",
   "execution_count": 1,
   "id": "e5de6b19",
   "metadata": {},
   "outputs": [],
   "source": [
    "def worker_routine(thread_name, msg):\n",
    "    \n",
    "    try:\n",
    "        server_address = (\"localhost\", port)\n",
    "        sock = socket.socket(family=socket.AF_INET, type=socket.SOCK_STREAM)\n",
    "        sock.bind(server_address)\n",
    "        sock.listen(1)\n",
    "        connection, client_address = sock.accept()\n",
    "    except:\n",
    "        print(\"Invalid port\")\n",
    "        \n",
    "    print(\"Thread \"+ thread_name + \" started\")\n",
    "    print(\"RX: \" + msg)\n",
    "    msg_tx = msg + \" \" + thread_name\n",
    "    connection.sendall(msg_tx.encode())\n",
    "    time.sleep(1)\n",
    "\n",
    "#     i = 0\n",
    "#     while i<5:\n",
    "#         print(thread_name)\n",
    "#         i = i + 1\n",
    "#         time.sleep(1)\n",
    "    print(\"Thread \"+ thread_name + \" ended\")\n",
    "    sock.close()\n",
    "\n",
    "def start_thread(thread_name, msg):\n",
    "    reader = threading.Thread(target=worker_routine, args=(thread_name, msg))\n",
    "\n",
    "    reader.start()\n",
    "    "
   ]
  },
  {
   "cell_type": "code",
   "execution_count": null,
   "id": "a98a3ef2",
   "metadata": {},
   "outputs": [],
   "source": []
  }
 ],
 "metadata": {
  "kernelspec": {
   "display_name": "Python 3 (ipykernel)",
   "language": "python",
   "name": "python3"
  },
  "language_info": {
   "codemirror_mode": {
    "name": "ipython",
    "version": 3
   },
   "file_extension": ".py",
   "mimetype": "text/x-python",
   "name": "python",
   "nbconvert_exporter": "python",
   "pygments_lexer": "ipython3",
   "version": "3.10.2"
  }
 },
 "nbformat": 4,
 "nbformat_minor": 5
}
