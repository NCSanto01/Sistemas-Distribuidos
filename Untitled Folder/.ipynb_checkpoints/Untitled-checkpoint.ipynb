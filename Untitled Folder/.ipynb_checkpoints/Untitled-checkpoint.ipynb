{
 "cells": [
  {
   "cell_type": "code",
   "execution_count": 26,
   "id": "423a4fa1",
   "metadata": {},
   "outputs": [],
   "source": [
    "import requests\n",
    "from xml.etree import ElementTree\n",
    "from datetime import datetime\n",
    "import utm\n",
    "import unidecode\n",
    "\n",
    "def convert_from_utm(easting, northing, zone, letter):\n",
    "    return utm.to_latlon(easting, northing, zone, letter)\n",
    "\n",
    "def convert_to_utf8(s):\n",
    "    return unidecode(s.replace(\"Ø\", \"n.\").replace(\"´\",\"\").replace(\"'\",\"\"))"
   ]
  },
  {
   "cell_type": "code",
   "execution_count": 3,
   "id": "4c7733d1",
   "metadata": {},
   "outputs": [],
   "source": [
    "response = requests.get(\"https://informo.madrid.es/informo/tmadrid/pm.xml\")\n",
    "root = ElementTree.fromstring(response.content)"
   ]
  },
  {
   "cell_type": "code",
   "execution_count": 22,
   "id": "7bb17905",
   "metadata": {},
   "outputs": [
    {
     "name": "stdout",
     "output_type": "stream",
     "text": [
      "11/04/2023 11:40:05\n",
      "2023-04-11 11:40:05\n"
     ]
    }
   ],
   "source": [
    "fecha = root[0].text\n",
    "print(fecha)\n",
    "fecha_formateada = datetime.strptime(fecha, \"%d/%m/%Y %H:%M:%S\")\n",
    "print(fecha_formateada)"
   ]
  },
  {
   "cell_type": "code",
   "execution_count": 6,
   "id": "ecdd33c9",
   "metadata": {},
   "outputs": [],
   "source": [
    "out = []\n",
    "for pm in root[1:-1]:\n",
    "    d = {}\n",
    "    for i in pm:\n",
    "        d[i.tag] = i.text\n",
    "    out.append(d)"
   ]
  },
  {
   "cell_type": "code",
   "execution_count": 7,
   "id": "a0a4b5d1",
   "metadata": {},
   "outputs": [
    {
     "name": "stdout",
     "output_type": "stream",
     "text": [
      "Hay  4566  medidas en el XML\n"
     ]
    }
   ],
   "source": [
    "print(\"Hay \", len(out), \" medidas en el XML\")"
   ]
  },
  {
   "cell_type": "code",
   "execution_count": 8,
   "id": "f1bdb0b8",
   "metadata": {},
   "outputs": [
    {
     "name": "stdout",
     "output_type": "stream",
     "text": [
      "{'idelem': '3409', 'descripcion': 'SEPULVEDA Ø118 N-S (CEBREROS-CJAL. FCO. J. JIMENEZ)', 'accesoAsociado': '240102', 'intensidad': '45', 'ocupacion': '1', 'carga': '2', 'nivelServicio': '0', 'intensidadSat': '3000', 'error': 'N', 'subarea': '1718', 'st_x': '436004,103195086', 'st_y': '4472588,47356732'}\n"
     ]
    }
   ],
   "source": [
    "print(out[0])    "
   ]
  },
  {
   "cell_type": "code",
   "execution_count": null,
   "id": "62fa5702",
   "metadata": {},
   "outputs": [],
   "source": [
    "for pm in out:\n",
    "    # Convertir de String a Integer\n",
    "    pm['intensidad'] = int(pm['intensidad'])\n",
    "    pm['ocupacion'] = int(pm['ocupacion'])\n",
    "    pm['carga'] = int(pm['carga'])\n",
    "    pm['nivelServicio'] = int(pm['nivelServicio'])\n",
    "    pm['intensidadSat'] = int(pm['intensidadSat'])\n",
    "    \n",
    "    # Formatear fecha\n",
    "    pm['fecha_hora'] = fecha_formateada\n",
    "    \n",
    "    # Covertir coordenadas\n",
    "    pm['coordenadas'] = convert_from_utm(pm['st_x'], pm['st_y'], 30, T)\n",
    "    "
   ]
  }
 ],
 "metadata": {
  "kernelspec": {
   "display_name": "Python 3 (ipykernel)",
   "language": "python",
   "name": "python3"
  },
  "language_info": {
   "codemirror_mode": {
    "name": "ipython",
    "version": 3
   },
   "file_extension": ".py",
   "mimetype": "text/x-python",
   "name": "python",
   "nbconvert_exporter": "python",
   "pygments_lexer": "ipython3",
   "version": "3.10.2"
  }
 },
 "nbformat": 4,
 "nbformat_minor": 5
}
