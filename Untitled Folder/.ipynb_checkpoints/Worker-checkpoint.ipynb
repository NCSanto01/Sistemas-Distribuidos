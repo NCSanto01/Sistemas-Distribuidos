{
 "cells": [
  {
   "cell_type": "markdown",
   "id": "d0544feb",
   "metadata": {},
   "source": [
    "### INTEGRACIÓN"
   ]
  },
  {
   "cell_type": "code",
   "execution_count": 6,
   "id": "b7b42e08",
   "metadata": {},
   "outputs": [
    {
     "name": "stdout",
     "output_type": "stream",
     "text": [
      "Worker 0 started\n",
      "Worker 0 000002\n",
      "Worker 0 00000f\n",
      "Worker 0 000003\n",
      "Worker 0 000009\n",
      "Worker 0 00000f\n",
      "Worker 0 000009\n",
      "Worker 0 00000d\n",
      "Worker 0 00000e\n",
      "Worker 0 000006\n",
      "Worker 0 000006\n",
      "Worker 0 000006\n",
      "Worker 0 00000c\n",
      "Worker 0 000003\n",
      "Worker 0 00000d\n",
      "Worker 0 00000d\n",
      "Worker 0 00000b\n",
      "Worker 0 000005\n",
      "Worker 0 000001\n",
      "Worker 0 00000f\n",
      "Worker 0 000008\n",
      "Worker 0 000000\n",
      "Worker 0 succeeded\n",
      "NONCE FOUND: 29830033\n",
      "Time elapsed: 50.76153898239136\n",
      "Worker 0 ended\n"
     ]
    }
   ],
   "source": [
    "import socket\n",
    "import sys\n",
    "import hashlib\n",
    "import threading\n",
    "import time\n",
    "\n",
    "\n",
    "def worker_routine(thread_name, block, lower_bound, upper_bound, connection, difficulty):\n",
    "    \n",
    "    global stop\n",
    "    stop = False\n",
    "    print(\"Worker \"+ thread_name + \" started\")\n",
    "    for nonce in range(lower_bound, upper_bound):\n",
    "        if stop == False:\n",
    "            new_block = block+str(nonce)\n",
    "            new_hash = hashlib.sha256(new_block.encode('utf-8')).hexdigest()\n",
    "            if new_hash[:difficulty-1]==\"00000\":\n",
    "                print(\"Worker \"+thread_name+\" \" + new_hash[:difficulty])\n",
    "\n",
    "            if new_hash[:difficulty]==\"000000\":\n",
    "                stop = True\n",
    "                time_stop = time.time()\n",
    "                time_diff = time_stop - time_start\n",
    "                print (\"Worker \" + thread_name + \" succeeded\")\n",
    "                print (\"NONCE FOUND: \" + str(nonce))\n",
    "                print(\"Time elapsed: \" + str(time_diff))\n",
    "                connection.sendall((\"Worker \" + thread_name + \" found Nonce:\" + str(nonce)).encode())\n",
    "    #             print(\"Time elapsed: \", time.time() - start_time)\n",
    "                break\n",
    "        else:\n",
    "            break\n",
    "    \n",
    "    print(\"Worker \" + thread_name + \" ended\")\n",
    "    if stop == False:\n",
    "        print(\"Worker \"+thread_name + \" did not find nonce\")\n",
    "        connection.sendall((\"Worker \"+thread_name + \" did not find nonce\").encode())\n",
    "        \n",
    "\n",
    "server_address = (\"localhost\", 6780)\n",
    "sock = socket.socket(family=socket.AF_INET, type=socket.SOCK_STREAM)\n",
    "sock.bind(server_address)\n",
    "sock.listen(1)\n",
    "connection, client_address = sock.accept()\n",
    "\n",
    "data = connection.recv(1024).decode().split()\n",
    "block = data[0]\n",
    "workers = int(data[1])\n",
    "\n",
    "max_bound = 100000000\n",
    "\n",
    "step = int(max_bound/workers)\n",
    "\n",
    "\n",
    "difficulty = 6\n",
    "\n",
    "time_start = time.time()\n",
    "\n",
    "for i in range(0, workers):\n",
    "    lower_bound = i*step\n",
    "    upper_bound = (i+1)*step\n",
    "    threading.Thread(target=worker_routine, args=(str(i), block, lower_bound, upper_bound, connection, difficulty)).start()\n",
    "    "
   ]
  }
 ],
 "metadata": {
  "kernelspec": {
   "display_name": "Python 3 (ipykernel)",
   "language": "python",
   "name": "python3"
  },
  "language_info": {
   "codemirror_mode": {
    "name": "ipython",
    "version": 3
   },
   "file_extension": ".py",
   "mimetype": "text/x-python",
   "name": "python",
   "nbconvert_exporter": "python",
   "pygments_lexer": "ipython3",
   "version": "3.10.2"
  }
 },
 "nbformat": 4,
 "nbformat_minor": 5
}
