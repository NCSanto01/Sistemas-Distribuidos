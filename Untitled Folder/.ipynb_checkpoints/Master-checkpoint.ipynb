{
 "cells": [
  {
   "cell_type": "markdown",
   "id": "40d78c6a",
   "metadata": {},
   "source": [
    "### INTEGRACIÓN"
   ]
  },
  {
   "cell_type": "code",
   "execution_count": 3,
   "id": "0d81d58a",
   "metadata": {},
   "outputs": [
    {
     "ename": "SyntaxError",
     "evalue": "invalid syntax. Perhaps you forgot a comma? (1584731652.py, line 15)",
     "output_type": "error",
     "traceback": [
      "\u001b[1;36m  Cell \u001b[1;32mIn[3], line 15\u001b[1;36m\u001b[0m\n\u001b[1;33m    sock.sendall((block + \" \" + str(workers)).enc\u001b[0m\n\u001b[1;37m                 ^\u001b[0m\n\u001b[1;31mSyntaxError\u001b[0m\u001b[1;31m:\u001b[0m invalid syntax. Perhaps you forgot a comma?\n"
     ]
    }
   ],
   "source": [
    "import socket\n",
    "import sys\n",
    "\n",
    "block = input(\"Last block of chain: \")\n",
    "workers = input(\"Desired number of workers: \")\n",
    "\n",
    "\n",
    "# Create a TCP/IP socket\n",
    "connection = False\n",
    "\n",
    "try:\n",
    "    server_address = (\"localhost\", 6780)\n",
    "    sock = socket.socket(family=socket.AF_INET, type=socket.SOCK_STREAM)\n",
    "    sock.connect(server_address)\n",
    "    sock.sendall((block + \" \" + str(workers)).encode())\n",
    "    connection = True\n",
    "\n",
    "except:\n",
    "    print(\"Error connecting to the server\")\n",
    "\n",
    "stop = False\n",
    "if connection == True:\n",
    "    while stop == False:\n",
    "        data = sock.recv(1024).decode()\n",
    "        print(\"RX: \", data)\n",
    "        if \"found\" in data:\n",
    "            stop = True\n",
    "\n"
   ]
  }
 ],
 "metadata": {
  "kernelspec": {
   "display_name": "Python 3 (ipykernel)",
   "language": "python",
   "name": "python3"
  },
  "language_info": {
   "codemirror_mode": {
    "name": "ipython",
    "version": 3
   },
   "file_extension": ".py",
   "mimetype": "text/x-python",
   "name": "python",
   "nbconvert_exporter": "python",
   "pygments_lexer": "ipython3",
   "version": "3.10.2"
  }
 },
 "nbformat": 4,
 "nbformat_minor": 5
}
