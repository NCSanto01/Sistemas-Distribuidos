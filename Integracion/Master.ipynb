{
 "cells": [
  {
   "cell_type": "markdown",
   "id": "69fa480e",
   "metadata": {},
   "source": [
    "### INTEGRACIÓN\n",
    "\n",
    "\n",
    "#### Descripción del trabajo:\n",
    "\n",
    "    Este trabajo simula una parte del funcionamiento de una red de blockchain. El archivo Master lee el último bloque de la cadena que está guardado en un archivo \"last_block.txt\". Después, se pregunta al usuario cuántos workers desea crear para procesar el siguiente bloque de la cadena. Se envía ese dato junto con el último bloque mediante TCP al módulo Worker, que se encarga de repartir la tarea de procesamiento entre el número de workers establecido por el usuario. \n",
    "    \n",
    "    La tarea del módulo Worker consiste en encontrar un número entero (llamada \"nonce\") que, si se añade al último bloque de la cadena, genera un hash que empieza por 6 ceros. Esta tarea es tediosa y poco eficiente, pues se deben recorrer todos los números enteros uno a uno hasta encontrar el que genera el hash deseado. Por ello, es buena idea distribuirla entre diferentes workers, asignando a cada uno de ellos un intervalo de menor tamaño en el que deben buscar ese número. Como se podrá observar, el tiempo de procesamiento es mucho mayor con un worker que con varios, lo que demuestra la utilidad de la distribución. Eso sí, un número de workers superior a 8 dejará de ser eficiente debido a las limitaciones de la CPU.\n",
    "    \n",
    "   \n",
    "#### Instrucciones:\n",
    "\n",
    "    Para correr el proyecto, primero debe ejecutarse el módulo Worker. Una vez esté corriendo, se ejecuta el módulo Master y se introduce el número de workers deseado. En ese momento, el módulo Worker lanza el número de threads correspondientes, y empieza a mostrar por pantalla el progreso de la tarea. Cuando un worker encuentra un número que genera un Hash con 5 ceros (en vez de 6), este se imprime. Cuando un worker encuentra el número que genera un hash con 6 ceros (el Nonce), se paran automáticamente todos los workers y se envía el resultado de vuelta al módulo Master. Entonces, en este módulo se muestra el Nonce encontrado, el worker que lo ha descubierto, así como el tiempo de procesamiento total empleado. Finalmente, se crea un nuevo bloque a partir del Nonce encontrado, y se guarda en el archivo \"last_block.txt\".\n",
    "    \n",
    "    El módulo Worker no se para tras encontrar un Nonce, sino que se queda esperando a una nueva petición del Master. Si se desea parar este módulo, debe introducirse 0 como número de workers. En cambio, si se desea continuar generando bloques, simplemente hay que volver a ejecutar el módulo Master."
   ]
  },
  {
   "cell_type": "code",
   "execution_count": 5,
   "id": "b699a7e2",
   "metadata": {},
   "outputs": [
    {
     "name": "stdout",
     "output_type": "stream",
     "text": [
      "Last block of chain:  c29e1bd4aeb7c4504c1b3d993bc17a13411891709338663\n",
      "Desired number of workers: 2\n",
      "Worker 0 found Nonce: 13969957   Time elapsed: 35.26750564575195\n",
      "New block created: c29e1bd4aeb7c4504c1b3d993bc17a1341189170933866313969956\n"
     ]
    }
   ],
   "source": [
    "import socket\n",
    "import sys\n",
    "\n",
    "block = \"\"\n",
    "\n",
    "try:\n",
    "    with open(\"last_block.txt\") as f:\n",
    "        block = f.read()\n",
    "        print(\"Last block of chain: \", block)\n",
    "                \n",
    "except:\n",
    "    block=\"c29e1bd4aeb7c4504c1b3d993bc17a13\"\n",
    "    print(\"Error file not found\")\n",
    "        \n",
    "workers = input(\"Desired number of workers: \")\n",
    "\n",
    "\n",
    "# Create a TCP/IP socket\n",
    "connection = False\n",
    "\n",
    "try:\n",
    "    server_address = (\"localhost\", 6780)\n",
    "    sock = socket.socket(family=socket.AF_INET, type=socket.SOCK_STREAM)\n",
    "    sock.connect(server_address)\n",
    "    sock.sendall((block + \" \" + str(workers)).encode())\n",
    "    connection = True\n",
    "\n",
    "except:\n",
    "    print(\"Error connecting to the server\")\n",
    "\n",
    "stop = False\n",
    "if connection == True:\n",
    "    while stop == False:\n",
    "        msg = sock.recv(1024).decode()\n",
    "        data = msg.split()\n",
    "        if data[0] == \"success\":\n",
    "            worker = data[1]\n",
    "            nonce = data[2]\n",
    "            time = data[3]\n",
    "            print(\"Worker \" + worker + \" found Nonce: \" + nonce + \"   Time elapsed: \" + time)\n",
    "            stop = True\n",
    "            f = open(\"last_block.txt\", \"w+\")\n",
    "            new_block = block + str(int(nonce)-1)\n",
    "            f.write(new_block)\n",
    "            f.close()\n",
    "            print(\"New block created: \" +new_block )\n",
    "            \n",
    "        elif data[0] == \"Shutting\":\n",
    "            print(msg)\n",
    "            stop = True\n",
    "        else:\n",
    "            print(msg)\n",
    "\n"
   ]
  }
 ],
 "metadata": {
  "kernelspec": {
   "display_name": "Python 3 (ipykernel)",
   "language": "python",
   "name": "python3"
  },
  "language_info": {
   "codemirror_mode": {
    "name": "ipython",
    "version": 3
   },
   "file_extension": ".py",
   "mimetype": "text/x-python",
   "name": "python",
   "nbconvert_exporter": "python",
   "pygments_lexer": "ipython3",
   "version": "3.10.2"
  }
 },
 "nbformat": 4,
 "nbformat_minor": 5
}
